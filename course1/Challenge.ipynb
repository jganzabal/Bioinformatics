{
 "cells": [
  {
   "cell_type": "code",
   "execution_count": 1,
   "metadata": {},
   "outputs": [],
   "source": [
    "import numpy as np"
   ]
  },
  {
   "cell_type": "code",
   "execution_count": 28,
   "metadata": {},
   "outputs": [],
   "source": [
    "with open('./data/upstream250.txt') as f:\n",
    "    content = f.readlines()\n",
    "dnaDict = {}\n",
    "for i, line in enumerate(content):\n",
    "    if line[0] == '>':\n",
    "        dnaDict[line[1:].replace('\\n','')] = content[i+1].replace('\\n','')"
   ]
  },
  {
   "cell_type": "code",
   "execution_count": 52,
   "metadata": {},
   "outputs": [
    {
     "data": {
      "text/plain": [
       "36"
      ]
     },
     "execution_count": 52,
     "metadata": {},
     "output_type": "execute_result"
    }
   ],
   "source": [
    "len(list(dnaDict.keys()))"
   ]
  },
  {
   "cell_type": "code",
   "execution_count": null,
   "metadata": {},
   "outputs": [],
   "source": [
    "Rv1733c   1|14  :   1/187   TTCGTGACCGACGTCCCCAG\n",
    "Rv1737c   2|5   :   2/141   TTGGGGACTTCCGGCCCTAA\n",
    "Rv1738   3|1   :   3/117   GCCGGGACTTCAGGCCCTAT\n",
    "Rv0079   4|7   :   4/162   CATGGGACTTTCGGCCCTGT\n",
    "Rv0569   5|10  :   6/156   GAGGGGACTTTTGGCCACCG\n",
    "Rv0571c   6|4   :   8/199   CCAGGGACCTAATTCCATAT\n",
    "Rv0574c   7|9   :  10/139   TTGAGGACCTTCGGCCCCAC\n",
    "Rv1734c   8|19  :  11/202   CTGGGGACCGAAGTCCCCGG\n",
    "Rv1996   9|16  :  14/175   TTAGGGACCATCGCCTCCTG\n",
    "Rv1997  10|6   :  15/161   TGGATGACTTACGGCCCTGA\n",
    "Rv2005c  11|15  :  17/180   TTGGGGACTAAAGCCTCATG\n",
    "Rv2031c  12|2   :  20/169   TCGGGGACTTCTGTCCCTAG\n",
    "Rv2032  13|11  :  21/174   TTGGGGACCATTGACCCTGT\n",
    "Rv2623  14|13  :  22/120   TTGAGGACCTAAGCCCGTTG\n",
    "Rv2626c  15|18  :  24/161   CACGGGTCAAACGACCCTAG\n",
    "Rv2627c  16|3   :  25/198   GGCGGGACGTAAGTCCCTAA\n",
    "Rv2628  17|17  :  26/214   GAAGTGACGAAAGACCCCAG\n",
    "Rv3130c  18|8   :  31/157   CGGAGGACCTTTGGCCCTGC\n",
    "Rv3134c  19|12  :  34/159   GTGGGGACCAACGCCCCTGG"
   ]
  },
  {
   "cell_type": "code",
   "execution_count": 53,
   "metadata": {},
   "outputs": [],
   "source": [
    "starting_pos = [187,   \n",
    "141,   \n",
    "117,   \n",
    "162,   \n",
    "156,   \n",
    "199,  \n",
    "139,   \n",
    "202,   \n",
    "175,   \n",
    "161,   \n",
    "180,   \n",
    "169,   \n",
    "174,   \n",
    "120,   \n",
    "161,   \n",
    "198,   \n",
    "214,   \n",
    "157,   \n",
    "159]"
   ]
  },
  {
   "cell_type": "code",
   "execution_count": 54,
   "metadata": {},
   "outputs": [],
   "source": [
    "seqNames = ['Rv1733c',\n",
    "'Rv1737c',\n",
    "'Rv1738',\n",
    "'Rv0079',\n",
    "'Rv0569',\n",
    "'Rv0571c',\n",
    "'Rv0574c',\n",
    "'Rv1734c',\n",
    "'Rv1996',\n",
    "'Rv1997',\n",
    "'Rv2005c',\n",
    "'Rv2031c',\n",
    "'Rv2032',\n",
    "'Rv2623',\n",
    "'Rv2626c',\n",
    "'Rv2627c',\n",
    "'Rv2628',\n",
    "'Rv3130c',\n",
    "'Rv3134c' ]"
   ]
  },
  {
   "cell_type": "code",
   "execution_count": 59,
   "metadata": {},
   "outputs": [
    {
     "name": "stdout",
     "output_type": "stream",
     "text": [
      "187 141 117 162 156 199 139 202 175 161 180 169 174 120 161 198 214 157 159\n",
      "Rv1733c Rv1737c Rv1738 Rv0079 Rv0569 Rv0571c Rv0574c Rv1734c Rv1996 Rv1997 Rv2005c Rv2031c Rv2032 Rv2623 Rv2626c Rv2627c Rv2628 Rv3130c Rv3134c\n"
     ]
    }
   ],
   "source": [
    "print(' '.join(np.array(starting_pos, dtype=str)))\n",
    "print(' '.join(seqNames))"
   ]
  },
  {
   "cell_type": "code",
   "execution_count": 48,
   "metadata": {},
   "outputs": [
    {
     "name": "stdout",
     "output_type": "stream",
     "text": [
      "Rv1733c 187\n",
      "Rv1737c 141\n",
      "Rv1738 117\n",
      "Rv0079 162\n",
      "Rv0569 156\n",
      "Rv0571c 199\n",
      "Rv0574c 139\n",
      "Rv1734c 202\n",
      "Rv1996 175\n",
      "Rv1997 161\n",
      "Rv2005c 180\n",
      "Rv2031c 169\n",
      "Rv2032 174\n",
      "Rv2623 120\n",
      "Rv2626c 161\n",
      "Rv2627c 198\n",
      "Rv2628 214\n",
      "Rv3130c 157\n",
      "Rv3134c 159\n"
     ]
    }
   ],
   "source": [
    "for i, name in enumerate(seqNames):\n",
    "    print(name, starting_pos[i])"
   ]
  },
  {
   "cell_type": "code",
   "execution_count": 46,
   "metadata": {},
   "outputs": [
    {
     "name": "stdout",
     "output_type": "stream",
     "text": [
      "TTCGTGACCGACGTCCCCAG\n",
      "TTGGGGACTTCCGGCCCTAA\n",
      "GCCGGGACTTCAGGCCCTAT\n",
      "CATGGGACTTTCGGCCCTGT\n",
      "GAGGGGACTTTTGGCCACCG\n",
      "CCAGGGACCTAATTCCATAT\n",
      "TTGAGGACCTTCGGCCCCAC\n",
      "CTGGGGACCGAAGTCCCCGG\n",
      "TTAGGGACCATCGCCTCCTG\n",
      "TGGATGACTTACGGCCCTGA\n",
      "TTGGGGACTAAAGCCTCATG\n",
      "TCGGGGACTTCTGTCCCTAG\n",
      "TTGGGGACCATTGACCCTGT\n",
      "TTGAGGACCTAAGCCCGTTG\n",
      "CACGGGTCAAACGACCCTAG\n",
      "GGCGGGACGTAAGTCCCTAA\n",
      "GAAGTGACGAAAGACCCCAG\n",
      "CGGAGGACCTTTGGCCCTGC\n",
      "GTGGGGACCAACGCCCCTGG\n"
     ]
    }
   ],
   "source": [
    "k = 20\n",
    "for i, name in enumerate(seqNames):\n",
    "    print(dnaDict[name][starting_pos[i]-1:starting_pos[i]+k-1])"
   ]
  },
  {
   "cell_type": "markdown",
   "metadata": {},
   "source": [
    "# MEME software"
   ]
  },
  {
   "cell_type": "raw",
   "metadata": {},
   "source": [
    "Rv1738 57\n",
    "Rv1737c 139\n",
    "Rv1733c 107\n",
    "Rv2032 172\n",
    "Rv2031c 114\n",
    "Rv3134c 136\n",
    "Rv1997 159\n",
    "Rv3131 143\n",
    "Rv3130c 155\n",
    "Rv2006 186\n",
    "Rv2005c 178\n",
    "Rv2627c 200\n",
    "Rv2623 118\n",
    "Rv0574c 137\n",
    "Rv1996 173\n",
    "Rv0571c 201\n",
    "Rv0079 160\n",
    "Rv2626c 62\n",
    "Rv2628 216\n",
    "Rv2007c 165\n",
    "Rv2631 45\n",
    "Rv1734c 204"
   ]
  },
  {
   "cell_type": "code",
   "execution_count": null,
   "metadata": {},
   "outputs": [],
   "source": []
  }
 ],
 "metadata": {
  "kernelspec": {
   "display_name": "Python 3",
   "language": "python",
   "name": "python3"
  },
  "language_info": {
   "codemirror_mode": {
    "name": "ipython",
    "version": 3
   },
   "file_extension": ".py",
   "mimetype": "text/x-python",
   "name": "python",
   "nbconvert_exporter": "python",
   "pygments_lexer": "ipython3",
   "version": "3.6.6"
  }
 },
 "nbformat": 4,
 "nbformat_minor": 2
}
