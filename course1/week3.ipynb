{
 "cells": [
  {
   "cell_type": "markdown",
   "metadata": {},
   "source": [
    "# 1.2.8"
   ]
  },
  {
   "cell_type": "raw",
   "metadata": {},
   "source": [
    "MotifEnumeration(Dna, k, d)\n",
    "    Patterns ← an empty set\n",
    "    for each k-mer Pattern in Dna\n",
    "        for each k-mer Pattern’ differing from Pattern by at most d mismatches\n",
    "            if Pattern' appears in each string from Dna with at most d ﻿mismatches\n",
    "                add Pattern' to Patterns\n",
    "    remove duplicates from Patterns\n",
    "    return Patterns"
   ]
  },
  {
   "cell_type": "code",
   "execution_count": 4,
   "metadata": {},
   "outputs": [],
   "source": [
    "def HammingDistance(p, q):\n",
    "    distance = 0\n",
    "    for i, c1 in enumerate(p):\n",
    "        if c1 != q[i]:\n",
    "            distance = distance + 1\n",
    "    return distance\n",
    "\n",
    "def Neighbors(Pattern, d):\n",
    "    if d == 0:\n",
    "        return set([Pattern])\n",
    "    if len(Pattern) == 1:\n",
    "        return set(['A', 'C', 'G', 'T'])\n",
    "    Neighborhood = set()\n",
    "    Suffix = Pattern[1:]\n",
    "    SuffixNeighbors = Neighbors(Suffix, d)\n",
    "    for Text in SuffixNeighbors:\n",
    "        if HammingDistance(Suffix, Text) < d:\n",
    "            for x in 'ACGT':\n",
    "                Neighborhood.add(x + Text)\n",
    "        else:\n",
    "            Neighborhood.add(Pattern[0] + Text)\n",
    "    return Neighborhood\n",
    "\n",
    "def kmers(text, k):\n",
    "    patterns = set()\n",
    "    for i in range(len(text) - k + 1):\n",
    "        patterns.add(text[i: i+k])\n",
    "    return patterns\n",
    "    \n",
    "def MotifEnumeration(dna, k, d):\n",
    "    common_patterns = {}\n",
    "    dna = dna.split('\\n')\n",
    "    dna_kmers = set()\n",
    "    kmers_list = []\n",
    "    for dna_line in dna:\n",
    "        line_kmers = kmers(dna_line, k)\n",
    "        kmers_list.append(line_kmers)\n",
    "        for kmer_ in line_kmers:\n",
    "            dna_kmers = dna_kmers.union(Neighbors(kmer_, d))\n",
    "        \n",
    "    for pattern in dna_kmers:\n",
    "        #print('pattern:', pattern)\n",
    "        for line_number, line_kmers in enumerate(kmers_list):\n",
    "            #print(line_kmers, line_number)\n",
    "            for pattern_prime in line_kmers:\n",
    "                if HammingDistance(pattern_prime, pattern) <= d:\n",
    "                    #print(pattern_prime)\n",
    "                    if pattern not in common_patterns:\n",
    "                        common_patterns[pattern] = set()\n",
    "                    common_patterns[pattern].add(line_number)\n",
    "                    \n",
    "                    #if pattern_prime not in common_patterns:\n",
    "                    #    common_patterns[pattern_prime] = set()\n",
    "                    #common_patterns[pattern_prime].add(line_number)\n",
    "        #print('_____')\n",
    "        final_patterns = []\n",
    "        for k, v in common_patterns.items():\n",
    "            if len(v) == len(dna):\n",
    "                final_patterns.append(k)\n",
    "    return ' '.join(final_patterns)"
   ]
  },
  {
   "cell_type": "code",
   "execution_count": 7,
   "metadata": {},
   "outputs": [
    {
     "name": "stdout",
     "output_type": "stream",
     "text": [
      "AGTCA GGCAA GGCTA GGGCA GGCCA GGCGA\n",
      "CPU times: user 193 ms, sys: 3.08 ms, total: 196 ms\n",
      "Wall time: 208 ms\n"
     ]
    }
   ],
   "source": [
    "dna = \"\"\"AGTCGTAACAGGGAAGGCAAAATTT\n",
    "TTGTTGGCAAATAGTAAATTGTTCA\n",
    "CAAGCGCTTAGGCAACCGGCCTTCG\n",
    "TCCCAGAACGGGCGAGTCGCATTGA\n",
    "CGACGATTTTAATCAATTAGGGCTA\n",
    "CGGTGATCTGGGCGAGAAGTCCGAC\"\"\"\n",
    "%time print(MotifEnumeration(dna, 5, 1))"
   ]
  },
  {
   "cell_type": "code",
   "execution_count": null,
   "metadata": {},
   "outputs": [],
   "source": [
    "# Este approach no funciono\n",
    "def MotifEnumeration(dna, k, d):\n",
    "    dna = dna.split('\\n')\n",
    "    # Patrones de la primera fila\n",
    "    common_patterns = kmers(dna[0], k)\n",
    "    print(0, dna[0], common_patterns)\n",
    "    for i in range(len(dna) - 2):\n",
    "        patterns_prime = kmers(dna[i + 1], k)\n",
    "        print(i+1, dna[i + 1], patterns_prime)\n",
    "        new_common_patterns = set()\n",
    "        #print(common_patterns)\n",
    "        for pattern in common_patterns:\n",
    "            for pattern_prime in patterns_prime:\n",
    "                if HammingDistance(pattern_prime, pattern) <= d:\n",
    "                    new_common_patterns.add(pattern_prime)\n",
    "                    new_common_patterns.add(pattern)\n",
    "                    # print(new_common_patterns)\n",
    "        common_patterns = new_common_patterns\n",
    "        print('common patters:', common_patterns)\n",
    "    return common_patterns"
   ]
  },
  {
   "cell_type": "markdown",
   "metadata": {},
   "source": [
    "# Motif entropy"
   ]
  },
  {
   "cell_type": "code",
   "execution_count": 60,
   "metadata": {},
   "outputs": [],
   "source": [
    "import numpy as np\n",
    "from collections import Counter\n",
    "def motif_entropy(motifs):\n",
    "    motifs_matrix = []\n",
    "    for motif in motifs:\n",
    "        row = []\n",
    "        for c in motif:\n",
    "            row.append(c)\n",
    "        motifs_matrix.append(row)\n",
    "    motifs_matrix = np.array(motifs_matrix)\n",
    "    length, width = motifs_matrix.shape\n",
    "    total_entropy = 0\n",
    "    for i in range(width):\n",
    "        frecs = Counter(motifs_matrix[:,i])\n",
    "        entropy = 0\n",
    "        for k, v in frecs.items():\n",
    "            p = v/length\n",
    "            entropy = entropy - p*np.log(p)/np.log(2)\n",
    "        total_entropy = total_entropy + entropy\n",
    "    return total_entropy"
   ]
  },
  {
   "cell_type": "code",
   "execution_count": 61,
   "metadata": {},
   "outputs": [],
   "source": [
    "motifs = [\"TCGGGGGTTTTT\",\n",
    "\"CCGGTGACTTAC\",\n",
    "\"ACGGGGATTTTC\",\n",
    "\"TTGGGGACTTTT\",\n",
    "\"ATGGGGACTTCC\",\n",
    "\"TCGGGGACTTCC\",\n",
    "\"TCGGGGATTCAT\",\n",
    "\"TAGGGGATTCCT\",\n",
    "\"TAGGGGAACTAC\",\n",
    "\"TCGGGTATAACC\"]"
   ]
  },
  {
   "cell_type": "code",
   "execution_count": 62,
   "metadata": {},
   "outputs": [
    {
     "data": {
      "text/plain": [
       "9.916290005356974"
      ]
     },
     "execution_count": 62,
     "metadata": {},
     "output_type": "execute_result"
    }
   ],
   "source": [
    "motif_entropy(motifs)"
   ]
  },
  {
   "cell_type": "markdown",
   "metadata": {},
   "source": [
    "# Median String"
   ]
  },
  {
   "cell_type": "code",
   "execution_count": 63,
   "metadata": {},
   "outputs": [],
   "source": [
    "from itertools import product"
   ]
  },
  {
   "cell_type": "raw",
   "metadata": {},
   "source": [
    "MedianString(Dna, k)\n",
    "    distance ← ∞\n",
    "    for each k-mer Pattern from AA…AA to TT…TT\n",
    "        if distance > d(Pattern, Dna)\n",
    "             distance ← d(Pattern, Dna)\n",
    "             Median ← Pattern\n",
    "    return Median"
   ]
  },
  {
   "cell_type": "code",
   "execution_count": 357,
   "metadata": {},
   "outputs": [],
   "source": [
    "from itertools import product\n",
    "def HammingDistance(p, q):\n",
    "    distance = 0\n",
    "    for i, c1 in enumerate(p):\n",
    "        if c1 != q[i]:\n",
    "            distance = distance + 1\n",
    "    return distance\n",
    "\n",
    "def kmers(text, k):\n",
    "    patterns = set()\n",
    "    for i in range(len(text) - k + 1):\n",
    "        patterns.add(text[i: i+k])\n",
    "    return patterns\n",
    "\n",
    "def MedianString(dna, k):\n",
    "    distance = (k + 1) * len(dna)\n",
    "    for kmer in product('ACGT', repeat=k):\n",
    "        kmer = ''.join(kmer)\n",
    "        accumulated_distances = 0\n",
    "        for dna_line in dna:\n",
    "            line_min_distance = k + 1\n",
    "            kmers_line = kmers(dna_line, k)\n",
    "            for kmer_ in kmers_line:\n",
    "                d = HammingDistance(kmer_, kmer)\n",
    "                if line_min_distance>d:\n",
    "                    line_min_distance = d\n",
    "            # En line_min_distance esta la menor distancia de kmer contra la linea\n",
    "            accumulated_distances = accumulated_distances + line_min_distance\n",
    "        if accumulated_distances < distance:\n",
    "            distance = accumulated_distances\n",
    "            motif = kmer    \n",
    "    return motif"
   ]
  },
  {
   "cell_type": "code",
   "execution_count": 351,
   "metadata": {},
   "outputs": [
    {
     "data": {
      "text/plain": [
       "'GGGCAG'"
      ]
     },
     "execution_count": 351,
     "metadata": {},
     "output_type": "execute_result"
    }
   ],
   "source": [
    "dna = \"\"\"CACATTAACTGAATAAATGGGGAGAATGACTCTGCACGGGTG\n",
    "TGTCGGGGGAAGTGGACTAGCCAAAATGTTAAACATTCGCAT\n",
    "GGGCAGCTCATACCGGGGGCACGCGAGATCGGGGCTTTAGTA\n",
    "GGGTAGTCTTGCTTGCCTGATATATGGCGTCCACGAGTAGCG\n",
    "CGGCCGGCTGGCTAGGGGATAGTAGAAAATAACAGGGGGGAG\n",
    "AATAGGTCCCCCGGGCAGAGCATATATATTAAAGGGCGATCC\n",
    "AATCTAGTAAAGAACTCCCCTTGTGGGCAGGCAGATTGCTAG\n",
    "GGGAAGCTATACCCGGCTCAGGATGATACGATCACTCCTACA\n",
    "CGGTGAAGTTACATATCTCAAAACGGGCAGAGGCAGCGTCTT\n",
    "TCATCAGCAATGTTAGAACGCGTAGGGAAGACGTGCCGTCTT\"\"\"\n",
    "dna = dna.split('\\n')\n",
    "MedianString(dna, 6)"
   ]
  },
  {
   "cell_type": "code",
   "execution_count": 353,
   "metadata": {},
   "outputs": [
    {
     "data": {
      "text/plain": [
       "'AATCCTA'"
      ]
     },
     "execution_count": 353,
     "metadata": {},
     "output_type": "execute_result"
    }
   ],
   "source": [
    "dna = \"\"\"CTCGATGAGTAGGAAAGTAGTTTCACTGGGCGAACCACCCCGGCGCTAATCCTAGTGCCC\n",
    "GCAATCCTACCCGAGGCCACATATCAGTAGGAACTAGAACCACCACGGGTGGCTAGTTTC\n",
    "GGTGTTGAACCACGGGGTTAGTTTCATCTATTGTAGGAATCGGCTTCAAATCCTACACAG\"\"\"\n",
    "dna = dna.split('\\n')\n",
    "MedianString(dna, 7)"
   ]
  },
  {
   "cell_type": "code",
   "execution_count": 379,
   "metadata": {},
   "outputs": [
    {
     "name": "stdout",
     "output_type": "stream",
     "text": [
      "3\n",
      "3\n",
      "3\n"
     ]
    }
   ],
   "source": [
    "motifs = ['GTCAGCG',\n",
    "'AACGCTG',\n",
    "'AATCCTA',\n",
    "'GTAGGAA',\n",
    "'TCTGAAG',\n",
    "'GATGAGT']\n",
    "for d in dna:\n",
    "    dist = len(motifs[0])\n",
    "    for km in kmers(d, 7):\n",
    "        h = HammingDistance(km, motifs[0])\n",
    "        if dist > h:\n",
    "            dist = h\n",
    "    print(dist)"
   ]
  },
  {
   "cell_type": "code",
   "execution_count": null,
   "metadata": {},
   "outputs": [],
   "source": []
  },
  {
   "cell_type": "code",
   "execution_count": 166,
   "metadata": {},
   "outputs": [],
   "source": [
    "def HammingDistance(p, q):\n",
    "    distance = 0\n",
    "    for i, c1 in enumerate(p):\n",
    "        if c1 != q[i]:\n",
    "            distance = distance + 1\n",
    "    return distance\n",
    "\n",
    "def kmers(text, k):\n",
    "    patterns = set()\n",
    "    for i in range(len(text) - k + 1):\n",
    "        patterns.add(text[i: i+k])\n",
    "    return patterns\n",
    "\n",
    "def DistanceBetweenPatternAndStrings(Pattern, dna):\n",
    "    k = len(Pattern)\n",
    "    accumulated_distances = 0\n",
    "    for dna_line in dna:\n",
    "        line_min_distance = k + 1\n",
    "        kmers_line = kmers(dna_line, k)\n",
    "        for kmer_ in kmers_line:\n",
    "            d = HammingDistance(kmer_, Pattern)\n",
    "            if line_min_distance>d:\n",
    "                line_min_distance = d\n",
    "        # En line_min_distance esta la menor distancia de kmer contra la linea\n",
    "        accumulated_distances = accumulated_distances + line_min_distance\n",
    "    return accumulated_distances"
   ]
  },
  {
   "cell_type": "code",
   "execution_count": 172,
   "metadata": {},
   "outputs": [
    {
     "data": {
      "text/plain": [
       "65"
      ]
     },
     "execution_count": 172,
     "metadata": {},
     "output_type": "execute_result"
    }
   ],
   "source": [
    "dna = 'GATTAGAGGTGTGACTGGCCGCCGGCGTAGGCGGGTTTTACCTTTTGTAATGTGATCTAAACATTGGTGCCACACGGCTCGCAGGTAGATAA GATTCGCATGGGGGAGCCACGTGGGCTTAAGCGCGGTGGCCCCGTTCTGTTTGTGCTATACTCCCCAAGTCTTTAACACACTGTCATTGCAA TTAAGTTGTCTTCGATCTACGTTCCTCGGTATACGGCCCGCATGTTGACATATTACTGTAACTTAGATGTGATAGGATTCACTCCTACCCTA CAGTATCAGCATAGTTCCTAGATCCATGGAGTTCGAGATGCGGGTTTGTAGCTCAGAGGACGTTTGGGTCGGAGATGTAGACCGCGTGCACC TGTCAAGATGGGTGTTCCGGAGAGAAGCGTAGCCAAGGAAGTGTACCTCTATAACGATATGGGGATACCTTCACAGGCGCAACGATGAAGAT GTTATGAGGGACATGATCAACGCGGGCGAGCCAAGTGTGATTTCATGCTCTAGCTGTACTGAGGTACGCTCCCACTTATGTAACCTGATCCC AGGTATGCATTGTTCGATCACTGCAAAACACGCTGCCTAATTTGGGAATTTCTGTTCGCTTTATGGAGGCCAGCGTACACCGACAGGCCCAG CCAGCCACCTCTGCTACGGTTACACAGATTTTATAGCAGTGTCAACTTTCTATGTATCCCGGGAGGGGCCTACCTTCGTAAACAGACCAGGG TTCATGTGATCGTTGTCGAGCTACCCAGGATCGCGTGCTATAACACGTACCGATCCTCGCATCTGCCAAGACCCCCCTTTCAGGTCTCGGCT GGAGGAATTACGGCACCTCTACTCTGACAAGAGTTCCTATCTGCGTGCGAGAACATTAAGTAGGGCCGACCGCTAACAATACGTGGAAGAGG ACAGACCGTAAATTAAGGTAGTGAATGTCTACGGAGCAAATGAAATACAATCTTGTCCGCCCCTCGCCGTCGAATTATGCGCCAGAAAGCTG CTAACGTACGCGTACACACTTCTGGTGACTCCTGGCAGGATGCTGTGTAATACTCACCTTAGTCCACCTAAATCGCTTCCTCACCTAACGTG GTGGTGCACCGAGAATTATCTTACTACATTCCAGGTATGTCAGCATGACGTACCTCACTTGTATAAACTCGCAACCTTCGGCCCTTCACATG TACAGTTATTTGCCGGTTTATCCGGCACCATGCTGAGTCGATGCACGCGTGACGACAAGAGAACAACTCTTCCGACTTCCAGCGGGCGTGAG GATTTGGGCGAAATCACCCAACCAACCACTCTCAGGAGAGTAGGCTGGGAGAAGTGTTCAGTATTCGGCGGGATCACCTCAGTCTCAATATA CAATGTCATGGCGAGTGTCGGTTGTCTATACCAAGTCTGGAGCGAGCCCAGAACGCGCAGTACCCCGCGTCGGAGTATTAGCTGTTCAGCCG TGCAACTAGGCGAAAGCTCGGCCGTATAAGTAACAGATTGGACCATTAGCTAGGGGTGCTAACCCCCCAGAGCCTCGACTAGACGCTAAGCG GGCCTACACGATTACCCTACTGGGCCAGCTATTTGGGGCTGCTGGTGGATATTCACTTCGCGAGCTAATGTCAGGCCTATCGCGTTGTTGAT TCGGACGACCCGTCACCTGTGTAGGGTGAGCGCGGGAGCATTCTTGCTCACGCCCACTTGTAGAGCCTTATGGTCCGTTACCACGCAGTTTG ATTCCGAGTGTCCCTGATCAGGTGTAATCATGTGATGGGACCTGGAGTAGCATGGGGCGTGATGTGTATTTTTGCGAGACGCCTCCACACAC CACGCAATAGACTGCGTTAGCGAAATGCATCCACCGGTACCCCGAACGCTAACTCATGATAATAGTCCACAACCCTGACGGTCCGTTACCTC ACAGGCATAATGATGGGGCAAGATTCGGCGGTTTAATGTTCAGAGGTTAAAGGCTCTAGTTGCAAAGGCTAGTGCTCACCCAGAGCCACGGC GATTTATGCCGAGCTACGCACCGTTCTACGAGCCGGCGATTACTTACCGTTACTGATTCGCAGACCCCAAAAAAAACCGATCGAGAGCTTTT GACGCATGACACATGTTTATGAAAACGCATCTTACTTCCATCATGGCAAGTTGTAACGGACCGACGCCCATTGGTTAGTGAAGTATCTGAGT TTAAGACAAGACAACGATGCCAGTAAACTCAGGTTAGGAGACTGTCTGTGCGGAATAATGTACGACCTTAGACGCGTGAGAGCTCTTTATCA TGATCACGACCAACCTCCATTTCAACGTTGATAACGGTTGATATCTAAAAGTGCCACGGACACCAGTACCAAGACGTCATGCTCTGAAGATA GGCAACCCAGGTGTCGAGAGAAATTGTAATAGGCAGTTGTGCGAAAGCCTAAGCCCAGGGTGGCATGTGCTGAGATGATGTGTGTTTATGGG TCCGCCACCTGACATTTCTCAGTATACGAACACGACTGGTGTTACAGTTCCTATCTTGCCAACCGACGGATACCTGGAAGGAGGGCGGGAAT TTATAGCGTCGCAGCAGCTCTTCCATCCCCAGAGCGTCAGACTATTTCCTAATCGGCTTAAAAAACCCTCAGACGATGGTATTGAGAGGGTT GACTTGCTTTATCGGGAGCGGTTCGGCTCAGCGCTGAATGGTCGGTTCGCTTTAACAGCCGGATAATCAGTTCACCATAGGGACGTAGGGCA ACATGCGATTGGGATTGCCCATAGGGCACCCGTCTGCGGCTAGAATAGTGTACTAAATTGCCACTGCTCCGATCCCGAAAGTGGGAGAGTAC GGAGGGAGGACTCCGGTTCTACCAGTATGCCGCATTCTAAGGGGAGCTCGGCTCTAGGGAACGGCCAGTCCCGTATGGGCGTCACGGGACGA ACTACTGGCGTCCCTACCGTTCCTTGTCGCCATGTATCACTTCTCTGTAGTAGGAAGTCACTTGGTGAAACGATAGTGCCATCGTGTGTCCA GGCGGTCTTTCCTCGATAATTTGCGGGAAGGTCACACTTAGAAACTAAAACCCATAGGTCGAGTTACAGAGCCAGGTTTTACGCTCATTATA AGCCGGACGTGAACCATGCCGGTGATGTATGCGCGCATTGTAAGACGGCCCAGCCTGTTAAGTGGACGTTCAGTACAGAGCTTCCGGAGGTC ACGTCGCGTCAACTGCTTTAACTCTCGTGATAAAAGGAGGCTAAAATAAGTTTGTCTACGCCGGAGGACTTGGCCCAGGGGTACTAGGGACC GCATCGCTCACGTAAGGGAATTCAAGACAACCAAAGTTGCCGTAAGACCATACTCGCAGGGTTTTTGGCTCACCTGTTTCGTCTAGATTCTC'.split(' ')\n",
    "Pattern = 'CGGGCT'\n",
    "\n",
    "DistanceBetweenPatternAndStrings(Pattern, dna)"
   ]
  },
  {
   "cell_type": "markdown",
   "metadata": {},
   "source": [
    "# probability of kmers"
   ]
  },
  {
   "cell_type": "code",
   "execution_count": 338,
   "metadata": {},
   "outputs": [],
   "source": [
    "from itertools import product\n",
    "def kmers(text, k):\n",
    "    patterns = set()\n",
    "    for i in range(len(text) - k + 1):\n",
    "        patterns.add(text[i: i+k])\n",
    "    return patterns\n",
    "\n",
    "def getProb(km, profile):\n",
    "    p = 1\n",
    "    for i, c in enumerate(km):\n",
    "        p = p*profile[c][i]\n",
    "    return p\n",
    "\n",
    "def ProfileMostProbableKmer(text, k, profile):\n",
    "    kms = kmers(text, k)\n",
    "    prob = 0\n",
    "    for km in kms:\n",
    "        p = getProb(km, profile)\n",
    "        if p > prob:\n",
    "            prob = p\n",
    "            motif = km\n",
    "    return motif"
   ]
  },
  {
   "cell_type": "code",
   "execution_count": 129,
   "metadata": {},
   "outputs": [
    {
     "data": {
      "text/plain": [
       "'CTGGTGATTGCGCA'"
      ]
     },
     "execution_count": 129,
     "metadata": {},
     "output_type": "execute_result"
    }
   ],
   "source": [
    "text = 'CTACAGATGTGGATTGACCCTCATGGCCTAGCCCTTGGCAGACGAGATTATGTGGCTCTTCGGGAAGCGCGGAAAAAAACTCCAACTGAAACGGTAAGCAGATAGGCTCCCCCCGTGATTCCGAGCCTAACGTATGCCGGGAGCCTGTTGCTGCCTCCATGTTTCTCGTTTATTTCCGATAACACAGATGGCCGAAAGTGGAAGTATCGTAATCCGTCGTTACCTTAGCTCTAACGTTAGATACTATCCAGCCATAGAGACAGTAGTTGATGTGATTGCTAACTCAAGCGCGGAATTCGCGGTTCTATCATCCTGACTCGAAGTCAAATAACGACTTAATGCACGTACTCCTGGTTTGAGGTTCAAATTGACAGGAAAGCCGACGCAATTAGCGCAAACCCACGTAAAAGTTTTACACGACGTTATGGCTCAATTACAACCATAGTGTGGCCCGGAGTTGCGAGCACTTAATTGGGGTTTAGGGGGACTGCGCAGGCAAGTTGGGTTAGCGAATGAGCCACCCATCCGGTGCAAAAAGTTCCTTATGAAAAAGATGATGGTCTCTGCAGAGCACGAAGCTGCGCGAGCAAGCTGTTGTGTGGTTTTTGCGGTCTACCCAACCCTATCTACGCAGTCTTACTGAGTGAAACTTAGGTCTAGTCTGACATCATCCCTAGGGTCTCGTTGCCTTAGATATTAGATCAGAACTATATCAAGGCTGGCAAGGTTGGGTACCCCATAATTCATCAGACTTTGTAACAAAATCCTAAGTCACTCTAAAGCGCGAAGTATTCTAGTTTCTTCTCTAGAACTTACGGATTAAGTGTACTCAGGCTCACATGTAGCTAGTTTTCTGAGCGTTACAACGAATCTCTGGGAGGGAGTACGATTCCACTTCGTAATCTACCAATATGATGGCTATGGCGTGTATCACTGGTGATTGCGCAACCCTACTGCTCTAGAGTGCCCGCTGTTCTGAGACGCATGATTCACCAAAGGT'\n",
    "k = 14\n",
    "profile = {\n",
    "    'A': [0.197, 0.296, 0.141, 0.310, 0.225, 0.296, 0.380, 0.239, 0.225, 0.169, 0.225, 0.211, 0.225, 0.324],\n",
    "    'C': [0.268, 0.197, 0.254, 0.211, 0.254, 0.197, 0.296, 0.296, 0.239, 0.296, 0.282, 0.282, 0.296, 0.211],\n",
    "    'G': [0.254, 0.225, 0.338, 0.310, 0.239, 0.324, 0.085, 0.239, 0.254, 0.296, 0.310, 0.239, 0.282, 0.282],\n",
    "    'T': [0.282, 0.282, 0.268, 0.169, 0.282, 0.183, 0.239, 0.225, 0.282, 0.239, 0.183, 0.268, 0.197, 0.183]\n",
    "}\n",
    "ProfileMostProbableKmer(text, k, profile)"
   ]
  },
  {
   "cell_type": "markdown",
   "metadata": {},
   "source": [
    "# GreedyMotifSearch"
   ]
  },
  {
   "cell_type": "code",
   "execution_count": 272,
   "metadata": {},
   "outputs": [],
   "source": [
    "def kmers(text, k):\n",
    "    patterns = []\n",
    "    for i in range(len(text) - k + 1):\n",
    "        patterns.append(text[i: i+k])\n",
    "    return patterns\n",
    "\n",
    "def get_profile(motifs):\n",
    "    motifs_matrix = []\n",
    "    for motif in motifs:\n",
    "        row = []\n",
    "        for c in motif:\n",
    "            row.append(c)\n",
    "        motifs_matrix.append(row)\n",
    "    motifs_matrix = np.array(motifs_matrix)\n",
    "    height, width = motifs_matrix.shape\n",
    "    profile = {'A': [], 'C': [], 'G': [], 'T': []}\n",
    "    for i in range(width):\n",
    "        frecs = dict(Counter(motifs_matrix[:,i]))\n",
    "        for k in profile.keys():\n",
    "            if k in frecs:\n",
    "                profile[k].append(frecs[k]/height)\n",
    "            else:\n",
    "                profile[k].append(0)\n",
    "    return profile\n",
    "\n",
    "def getProb(km, profile):\n",
    "    p = 1\n",
    "    for i, c in enumerate(km):\n",
    "        p = p*profile[c][i]\n",
    "    return p\n",
    "\n",
    "def ProfileMostProbableKmer(text, k, profile):\n",
    "    kms = kmers(text, k)\n",
    "    prob = 0\n",
    "    for km in kms:\n",
    "        p = getProb(km, profile)\n",
    "        if p > prob:\n",
    "            prob = p\n",
    "            motif = km\n",
    "    if prob == 0:\n",
    "        motif = text[:k]\n",
    "    return motif\n",
    "\n",
    "def score(motifs):\n",
    "    m = []\n",
    "    l = []\n",
    "    for k,v in get_profile(motifs).items():\n",
    "        l.append(k)\n",
    "        m.append(v)\n",
    "    amax = np.argmax(np.array(m), axis = 0)\n",
    "    motif = ''.join(np.array(l)[amax])\n",
    "    score = 0\n",
    "    for m in motifs:\n",
    "        score = score + HammingDistance(m,motif)\n",
    "    return score\n",
    "\n",
    "def GreedyMotifSearch(Dna, k, t):\n",
    "    BestMotifs = []\n",
    "    for line in Dna:\n",
    "        BestMotifs.append(line[:k])\n",
    "    line = Dna[0]\n",
    "    for j in range(len(line) - k + 1):\n",
    "        Motif1 = line[j: j + k]\n",
    "        Motifs = [Motif1]\n",
    "        for i in range(t-1):\n",
    "            profile = get_profile(Motifs)\n",
    "            Motifi = ProfileMostProbableKmer(Dna[i+1], k, profile)\n",
    "            Motifs.append(Motifi)\n",
    "        if score(Motifs) < score(BestMotifs):\n",
    "            BestMotifs = Motifs\n",
    "    return '\\n'.join(BestMotifs)"
   ]
  },
  {
   "cell_type": "raw",
   "metadata": {},
   "source": [
    "GreedyMotifSearch(Dna, k, t)\n",
    "    BestMotifs ← motif matrix formed by first k-mers in each string from Dna\n",
    "    for each k-mer Motif in the first string from Dna\n",
    "        Motif1 ← Motif\n",
    "        for i = 2 to t\n",
    "            form Profile from motifs Motif1, …, Motifi - 1\n",
    "            Motifi ← Profile-most probable k-mer in the i-th string in Dna\n",
    "        Motifs ← (Motif1, …, Motift)\n",
    "        if Score(Motifs) < Score(BestMotifs)\n",
    "            BestMotifs ← Motifs\n",
    "    return BestMotifs"
   ]
  },
  {
   "cell_type": "code",
   "execution_count": 275,
   "metadata": {},
   "outputs": [
    {
     "name": "stdout",
     "output_type": "stream",
     "text": [
      "25\n",
      "CCCCATGGATCC\n",
      "TTGCCGTTCCGA\n",
      "ACACACGAATGT\n",
      "ACCTCTTCCTGG\n",
      "CCGTACGGATCG\n",
      "CTAAAGGATTCA\n",
      "CCCAATGAATGC\n",
      "TCAAATGCATCG\n",
      "ATATACTCTTGC\n",
      "ACACCCGCTTGG\n",
      "CCAAACGGATCT\n",
      "AGCACCCAGCGA\n",
      "CCAAACCCCTCT\n",
      "CCGCATGGATCT\n",
      "CCCCATGAATCA\n",
      "CCACAGGGATCC\n",
      "CCCCAGGCATCA\n",
      "CCACACGCATCA\n",
      "CCCCACGAATCG\n",
      "CTCAAGCATTGT\n",
      "CCCAATGTATCA\n",
      "TTCCATTCATGC\n",
      "CCGTAGGACTCC\n",
      "CTAAAGGATCCG\n",
      "CCACCCGCCTGA\n"
     ]
    }
   ],
   "source": [
    "Dna = \"\"\"TGGAGTCCCTGTACCCCATGGATCCATCTGGCTCACACTAATCATTCGCACTGAGTAGTGACGGACCTTCTGAAAAGATAGCACAAAAGCGTAGTTGTTATTGCTACTTGAACAGCGTCCTCAGGACACGCCTTAACCCACTCTTGAAAATATGGG\n",
    "TTGCCGTTCCGAATAGATGGGAGCGGCGTATTGGTGGCATGTCACGATCAATTGGGTTCGGTAAGTTAGGCAGTCTTGGGGAATTCCTAGTGTGTTCTGCTGGGACGACTTTGCTTACAGACCGTAGGCATCAGTTGGGAGAGGAACATCTGAAAC\n",
    "ACACACGAATGTAGTGCACTAATGACCCGAAGTATCGAGCTCAGGGGGAATACATTCGGTCTCTCATCCTACACAATTAGGAGTATGTCCAACCCGGCATACAGTGAATGGGTCATACAGTAGTATTGCCGATATAATCGCGGGTTGTTGGCATGC\n",
    "ACCTCTTCCTGGTTTAGATGTCTCAGTACTTACGAGTGGGAGTCCACAACCCTACGAATCAAATGAGGTGGTACCCAGCAAAATCATAGAAGTAAACTCTGTAATCACTAACGGATCACCTCACTGCCATTACGAAAACATCAGCAGAGTACGTCA\n",
    "TCCTAAACAGAGGGAAGTGCTGCTTAACCAAGCGATGAGAGCCCTTTTAGTGACGGCGGTACCGTACGGATCGTCTGGTTCGGTAAAGCCCACACTCAAGGTCATTATTCGATAAAAGTAGCCTAAGTTAAGCATCAGCCTAGATAAATGTTCGCA\n",
    "CTAAAGGATTCAATAAACCCTTTTCAGACGAATGGCTTATCCTCTGTAGCGGGGTGTGCGCTAGTCCAATCGTGTACCGAGACGCTGCTTATATTAGGTGCATATCGGACCTGAGGTATCTTCGAAGTAATCAGCGAACTGGCTGTTAAGCTCAGA\n",
    "CAAGCTCCAACTCCGCTGGAGCCTCAGCTCCCCAATGAATGCAATGGGCAGACGTACACCCAGCTTCATAGGCATCCAATTTGCACCTGATGAATCTTTGCTTTGGTCCCTCTAATCTTTGCATGTTCCGCTGAACAGCCCTCTCGACAACGTCGC\n",
    "TTCGACCAACTAGTGTAGGGGAGTAAAAGCCAATTACAGTCGTATCTTCATTATTGTGCTCCTCTTATGTCGTATCGCTCAAATGCATCGTGACCCAATATAATAGACGATGCTCTAAGCATAGTTAGTTTCACCCAAAGAATCGTTCTTACGCCG\n",
    "CCTGTACTGTGCACTAATATACTCTTGCAGCTGTTACCGACTCGGCAGTCAGTTCTAGCGTTCGGGATAACCTCTCGAGGCACTCATAAACCCGGATGCTGCCACTTGACGCTCGCTGTTACCCGAGGAATCTTAAGACACTGCGATCCTAGCATC\n",
    "CACATGAGCCGTACGGATTGCCCTAGGGGAGACAGGGACCGGGTCGGCGGGGACGTGTCCTCCCTCGTTTCATCGTAATCTCCCACCGGAAGAATCTTAGTCACACCCGCTTGGTAGCGTAAATGGATGACGTACTGGATAGTTTGGTCTATTGAC\n",
    "GCTGGTCACCGGACTGGTGAGCACCTATTGGACGAGCCGTTAGCGTGTCGAAGATCAGCGGTATGGGTAGGCAGGGTGTCGCAAGGGAAACTTGGGACCAAACGGATCTTACACGTGGGTGACGACTTGAGCTACAGTACTGGATGCCCCTTTAGT\n",
    "AGCACCCAGCGACTGACATTTTCTCAGGTACGGTATTCGGATGTTCCACTAGAACCTAGCGAAAGCCATTGGTACGTCGGCGTGATTGCCCCCGTTGTACGAAACATAACCGGAAGCATCCGACAATCAGACTGTGGATGGGGAGGCGTTCTCAAC\n",
    "GATGTGACTAATCATAGAAACTTAAGTGCCTTAATGGGGCGTCACTACGTTACCGACCGGTTTCTCCGTGCACCAAACCCCTCTTACGCCGACAGGCTTGACCAGTGACACTGTACCGCCACCAGACGGATCGTGGGTGCTGTCGGGGAGATCTGC\n",
    "ATCCGAACAAAGCTTCAACGGGTTGTGTACTTCCGTATGAGAGGGAACAAGATCGTCCTCACATATAAGCTAGAGCCCTTCTAATATCGCACTGGAACCGCATGGATCTTGGAATGCCAACCACACCTAGTCGGCAGCAGTCGGTTATGGGCACTA\n",
    "GTTTAACCCTGGAACAATCGCCTGAGTCGCCGCGAAATGACTGCCATGTGGAATGGATGGCCTCTGGTTTAATCTCCGGTCTAGTGCACATCTTGTTATCAACTTCCTACCCCATGAATCACACAGTGACCTGCTGTAGATGTTCTTAGCGCACGA\n",
    "CGGTGAAACTTACGACCTAAAGTAAAGAAATTGTGCGGGAACTCTGGGGACTACGCGGCGGGCGTGCGCGCCTAGTTATTGGCGGGTGGCTTCGCTACCACAGGGATCCCCAAATTCGCACATTTTCTATAAAGAAATCACGTCGGAGGTTTTTAA\n",
    "CGTGTTCTCGCGCGATAAGGTCTGGATATACAACCAGACAGTCGCGAGGGTGATTAATCATTTTCACTTCCACCAAGTATTTACGGCCCTAACAAGAAGAAAGTCAGGTAGTGTGGACAGACCCCAGGCATCAACATACTTTATGACTCGGATGAG\n",
    "CACACTCTGTCATGTCGGACTAGGTGTGCAGCTGGGTCCTCCATATCGCTGACACAGATTCGAAAGTGGCTCTCCGAGATGACGAAAGTATTGCAGGGCACCTTTACTACCACACGCATCAGCGAGATTAAGCGGGCACATTGTTTGAACTGGCTG\n",
    "AAACAATGAGTGAAAGCGCGTTCGGGGACAGGTACCGCCCTCTTCTCGCAGAATTCTTAGATATCTGAGGCATCCAGCCAACGCGCATGTGTGGGAACCCCACGAATCGAAAGAATCTTAGAATCCGAATACAATGTAGTCGGGGGACGTACGGCT\n",
    "GAATGAATGAGAAACTCGTTTATAACCGCACTGAACTGTCTCAAGCATTGTTATACACAAAAACGCGTCGTGTTCCTATTGACACATACAAAATAAATTTCGGTCTCCTATTCGTTCAAACTATGAAGAAGCACCCTAAGCATCATTCCTACAAGT\n",
    "TCAAGCCATTATGTACTGCGTACCGTTCGAGACCGGACGACGGACGTAGTGTGTTCCTAGATACGCCAGGGCAATCGCTACATGACGGGGTAGCTTGCACTGAGACTCCCACTAACTTCAACCCAATGTATCAATCATTTGATAGCATCTACATCG\n",
    "CAAAGGGATTTGCATAGGTACAAGGTTCACGCCCTTAGACTATGAGGAGGGAAGACCCCCAGTAGCGTGGAAAGTATCTGCGGTTTTTGGCCGGGTCATATTGGGTTCCATTCATGCAAGGCCGCGCCCGTTATATCTTAAAATACCCGATGAATC\n",
    "TTGGGACTGCGAAGCGTGTTGCGGGTTTGATACCGCTGCATCGGGCTGACCGAAAGGATCCTGGAAGGAGACTCGCTGGTATAGTAGGATATATCTTTTTTCGATTCGCCTTTCGGCTCAGTTTAGAACCCCGTAGGACTCCAATTACTACGCCTC\n",
    "GAGAGAAGCCGTTAGGCTTAAGAAAGATCTGTTTAGGGTACGATGGTCCGGATATCCAGAAGTGCCACACTCGGGTCACGCCGAACGCACTAGGGGTGAACTCCGGTGACGGAAAGGCAGTGACAAGCCTACACCTAAAGGATCCGCAAGACCCCG\n",
    "CCTAAGGGACCTGGGTGACTTGTATAAATTCCTCCCACCCGCCTGATTTGTTGTCAGGTAGGGTAAGTCCGAGCAGCTTCCTATGCTCACGGTCGATACAATTGTCTCATTGTGCACCCAACCTGAAGAATCCCAAATTAACGATACCGGGAGACA\"\"\"\n",
    "Dna = Dna.split('\\n')\n",
    "k = 12\n",
    "t = len(Dna)\n",
    "print(t)\n",
    "print(GreedyMotifSearch(Dna, k, t))"
   ]
  },
  {
   "cell_type": "markdown",
   "metadata": {},
   "source": [
    "# With laplace"
   ]
  },
  {
   "cell_type": "code",
   "execution_count": 334,
   "metadata": {},
   "outputs": [],
   "source": [
    "import numpy as np\n",
    "from collections import Counter\n",
    "\n",
    "def HammingDistance(p, q):\n",
    "    distance = 0\n",
    "    for i, c1 in enumerate(p):\n",
    "        if c1 != q[i]:\n",
    "            distance = distance + 1\n",
    "    return distance\n",
    "\n",
    "def kmers(text, k):\n",
    "    patterns = []\n",
    "    for i in range(len(text) - k + 1):\n",
    "        patterns.append(text[i: i+k])\n",
    "    return patterns\n",
    "\n",
    "def get_profile_laplace(motifs):\n",
    "    motifs_matrix = []\n",
    "    klen = len(motifs[0])\n",
    "    for motif in motifs:\n",
    "        row = []\n",
    "        for c in motif:\n",
    "            row.append(c)\n",
    "        motifs_matrix.append(row)\n",
    "    motifs_matrix = np.array(motifs_matrix)\n",
    "    height, width = motifs_matrix.shape\n",
    "    profile = {'A': [], 'C': [], 'G': [], 'T': []}\n",
    "    for i in range(width):\n",
    "        frecs = dict(Counter(motifs_matrix[:,i]))\n",
    "        for k in profile.keys():\n",
    "            if k in frecs:\n",
    "                profile[k].append((frecs[k] + 1)/(height + klen))\n",
    "            else:\n",
    "                profile[k].append(1 / (height + klen))\n",
    "    return profile\n",
    "\n",
    "def getProb(km, profile):\n",
    "    p = 1\n",
    "    for i, c in enumerate(km):\n",
    "        p = p*profile[c][i]\n",
    "    return p\n",
    "\n",
    "def ProfileMostProbableKmer(text, k, profile):\n",
    "    kms = kmers(text, k)\n",
    "    prob = 0\n",
    "    for km in kms:\n",
    "        p = getProb(km, profile)\n",
    "        if p > prob:\n",
    "            prob = p\n",
    "            motif = km\n",
    "    if prob == 0:\n",
    "        motif = text[:k]\n",
    "    return motif\n",
    "\n",
    "def get_score(motifs):\n",
    "    #Obtiene el mejor y calcula diferencia\n",
    "    m = []\n",
    "    l = []\n",
    "    for k,v in get_profile_laplace(motifs).items():\n",
    "        l.append(k)\n",
    "        m.append(v)\n",
    "    amax = np.argmax(np.array(m), axis = 0)\n",
    "    motif = ''.join(np.array(l)[amax])\n",
    "    score = 0\n",
    "    for m in motifs:\n",
    "        score = score + HammingDistance(m,motif)\n",
    "    return score\n",
    "\n",
    "def GreedyMotifSearch(Dna, k, t):\n",
    "    BestMotifs = []\n",
    "    for line in Dna:\n",
    "        BestMotifs.append(line[:k])\n",
    "    BestScore = get_score(BestMotifs)\n",
    "    line = Dna[0]\n",
    "    for j in range(len(line) - k + 1):\n",
    "        Motif1 = line[j: j + k]\n",
    "        Motifs = [Motif1]\n",
    "        for i in range(t-1):\n",
    "            profile = get_profile_laplace(Motifs)\n",
    "            Motifi = ProfileMostProbableKmer(Dna[i+1], k, profile)\n",
    "            Motifs.append(Motifi)\n",
    "        motScore = get_score(Motifs)\n",
    "        if motScore < get_score(BestMotifs):\n",
    "            BestMotifs = Motifs\n",
    "            BestScore = motScore\n",
    "    return '\\n'.join(BestMotifs), BestScore"
   ]
  },
  {
   "cell_type": "code",
   "execution_count": 336,
   "metadata": {},
   "outputs": [
    {
     "name": "stdout",
     "output_type": "stream",
     "text": [
      "25\n",
      "CCCTGTTGTGGA\n",
      "CCCTGTTGGCTA\n",
      "CCCTGTTGAACC\n",
      "CCCTGTTGGAGT\n",
      "CCCTGTTGTCAC\n",
      "CCCTGTTGCCTA\n",
      "CCCTGTTGGGTC\n",
      "CCCTGTTGATAC\n",
      "CCCTGTTGTATC\n",
      "CCCTGTTGTCTA\n",
      "CCCTGTTGCCAG\n",
      "CCCTGTTGAACC\n",
      "CCCTGTTGTTCT\n",
      "CCCTGTTGTGGA\n",
      "CCCTGTTGTATA\n",
      "CCCTGTTGCGAG\n",
      "CCCTGTTGCTGC\n",
      "CCCTGTTGCATC\n",
      "CCCTGTTGAGGT\n",
      "CCCTGTTGAACC\n",
      "CCCTGTTGCTTA\n",
      "CCCTGTTGCTGG\n",
      "CCCTGTTGGTAG\n",
      "CCCTGTTGCTCC\n",
      "CCCTGTTGGCTC\n",
      "65\n"
     ]
    }
   ],
   "source": [
    "Dna = \"\"\"GACCCATTACCCAGATCTAAGGCCCGCGAGCGGACGGCCCGGCGACCGATGAATTCATGTGTAGTCGCCGTATGTGCTCGGCCTCCCTGTTGTGGATGCGATGTAAGACAGGCTACGACATCTATTTAAGCGGTGAGGTTATGATTATCTCGCACC\n",
    "GCGCTCGGCAGACAGCTTTAGGTTGTGGACATAGACCCCTGTTGGCTACACTACAGACACGGAACCCACATTATTCCGGATGGGGTTCTTTTGCTCTTAACGCAGCCTCATCGGTTAGGTCGGGGCCCCCTTCCACATTCCTGTGCACGATCCAAT\n",
    "AAACCATCAACGCGACCATATACCACGTACTAGTTGAATTACCGCAAAGCACTGCTTGGGGTTGACGCGCGCCTCTACACCAAGGGCATTAAGTCCGGTTCCGATTTCCCCTGTTGAACCCTCGTTAATCGAGGTTTACCATATTGCAATTTTTAA\n",
    "TCGCGGCGATGCTAATGAAGCCAGAAACGTACGGAACTCCGACTACGTCAAAATACTACCGAGCTGGCGGTTACGGATCCGGTACCCTGTTGGAGTTCACCAGTATGATGGAGGATATCCTCTATCTACCTAGGTTAGGGTCTAGGATAAGGTCAT\n",
    "ATCATAAGATATATCAATATCGAACGCACCTCTTCCGCGATTAGCCAGAGGTTCCCGATCCATTGCGTGCCGGAACCGCGTCACGTACTATCGCCAAGCGTCGCTGGGCCCTGTTGTCACCTTCGGGTCAATACACCGTGATCCTGGTTGCCTAAG\n",
    "GCCGATGATTCATCATACCTGTTTGTGCTTTTGTTGACCCCGCTCATCCGGTTACTATCCCCTCATCCTGATTCCTAAGTCCTTCGAGAGCTGAGGAATGTACAATCCCAACGTATGCGCGACTCGGCTGATCGAACACCGTAGCCCTGTTGCCTA\n",
    "TGGTATAGAAGGGGGTGAGCTCGCCCCTGTTGGGTCGACTTGGTTGTAACCACTGATAACCGGTCTCCTATGCAACCGGACCTATCTTCGAGTAAAGTTATGAGATACTAACGATTGGATATTCACATTAGCGAGCCGGGCAATGTTACCCAGACT\n",
    "ATAACCATGAATGAGTAGCGCCGGATTATAGGTTGTGCGGTTGGAGAGTCGTGGAGTGTCATCCCCTTTGACTGGTGCTATGGCCATGCCAGCTAATGGACGATCGGCCCCTGTTGATACGAACGTGTTCGCGTTTGCCCTTCGAAGTCTATTGCC\n",
    "AGGCGGGGAAATCTGCTCAACACATGTTATTGTGTCATCTCGTCTTTCCGAGCTGCGATATGTCAACATCTTCTGCTTCACAAGTAAGTCTGACTGGAAATTTACAACAAACACCGGTCAAAACACTCCCTACCCTGTTGTATCAGCCGTATGGCA\n",
    "CAAAACGAAGCATCCCTCACGTAAAAATGAGTCGCCCACACTCTTTCCGTATTTAAGATACAGCTTGTGCGCGACCGGATCCCCTGGGCCGGTGTCGAGTCGCCCTGGAAGGCATGAATCGGCGGGTTCTCACCCTGTTGTCTATACGGGAAGAGA\n",
    "TGTACTTGCAACTCCGATTCTCGCGGCATTGTAATTACAAAGACACTCTCGCTCTTCCTCGCCTATGTAAGTTAGTAATCGCATTCACTGAATAATCCCTGTTGCCAGTTAATGTCGTCACACACCAAACACTCGATTGGTGTTAAACTGTTTGGT\n",
    "ATTCATTACGATCAACTTAGAAATCCTACAAAACATGAACCAGTGACTGAAAAAATATATACTATATCCCATCCACCCCTTGCCGATAGCCGGCGCACCCCCGTATATTACTCAGAGCAATTTCCGTATTTTCACAGAGCCTGCCCCTGTTGAACC\n",
    "GGTAACAACTGGATGATTGCCTCTACAGGGTCGTATACAATAGTCGACCGCATATGCTCCAGGGCTCCGTACCTTCCGTTTTTACCCTGTTGTTCTCGAAAGATAGGCTTGCCCATGCAATCCCAACACGAGAACAATAGATGTGTTCACTCATGA\n",
    "GTCGTGCACGTGTCTCCGCAAGACTTGTACCACTTGTCTTTCTTGACGATATTTGATTGCCCCGTATACCGTCCCTGTTGTGGATATCGATCCGTCCGAAAAGAGCACTCAGCAATGGGACGGATGTAAGGATAGTAGACCGACTACTAGGAGGGT\n",
    "AGCGAACTATTGCCCTGTTGTATAACTTTTACCTATCTCCATTAGCGGTTCTCGCAGAGGACTAAAAAATGGAGAAATTACACGGTAGCATGCGAAGCCGCATACACATCCGATATCTGGCCGGCGCCGAAACCTGATGGACTCACGCCTATATGA\n",
    "CCCTGTTGCGAGATGGTTCTCCCGTAGATAAATGAACGGTATGGGGGCGACAGCGTCCGCCGTGCACGTTTTCCGCGGCAAACTTGGCGATGTCTTTAGGACCTGGGATCAGTGACACGGGGACGTTGACCGTATCTACTACAAAGCCGGCTTGCC\n",
    "GCAGTATCCTTTCCCTGTTGCTGCTAGGTTCACGATGGCAACTTCTGGGCCACGGTCTGCTGGGTTCTACGTGATCGGCTCTCGAAGCGTGCAAGGAGGGCCGGGTATGACGCCAATCTTGATATAAAGCCTCAAAGGCGACCCCGACAGACCACT\n",
    "TAATAATTTTGAATGAAGCGAACGCCCTGTTGCATCCTGGGGTGACCGAAGCCGAGCGAGTAACTCCAATCGATATAGGTGGTATGACACGCGAGATTCCACACCACCAAGTCCTTGATTTACTACATTAAGCCAGGACTAAATCTATTGAACATA\n",
    "CAATCTCCTTTCTACATAGTAGATCCAAGACGAACTGATCTAGACACCCCCACTATCTATCCCTGTTGAGGTAGTATGGTGAAGTTAAGAGCCTTTAACTTAACATTCCGCCTTTTAAGAAAGAGCGTCACTATCGGGACACCCTAGGTGCTCCCA\n",
    "TACTGGTGTCACCACATACTAAAAAGATAAAAATGTGTTTATAAAGCGTAGACGTCCGGTGTTTGCGTGAGGCAAGTGCACCTCAACAAGGACGCTTGTACGTCTCGGCGTATCACGCCCTAGCGGCCGCTCATCGCATCGAGCCCCTGTTGAACC\n",
    "CGGATCCGTTGCAGACCGTACTCCCCCTGTTGCTTACTGTTCGTTCAAGGACTAGGGTTAAATAGGTTATACTTACGGCTTATTGTTTGCGTACGCGTCTGATCGCGCCGATAATGCGATGTCATTACGGACCAACATCACCCCTACATGAAAGAC\n",
    "CCCTGTTGCTGGCACACGTTGCCTTGGGCACTGAAGCTGTCTATGCTTCTGGGACTGTTGCCGAGCGGGACACATGGTCACTTATAACTCGTGCTTATTGATCTCGTCCCTGTGGAATAACCCCAGTAGAACATACACAACGGTGCAAACGAAGTC\n",
    "TCCTATTGAAGCGCGAACAACTCTGCCATAATATCGTGTCGCAAACTTTGTTAGCATGTTCGTGCACTGACACGCAAGACTGGTCTCTTCAGAGTGACCACACCTCTCCCCTGTTGGTAGTCACATAAACGTGTTGTTTGAGCGTTGTAACCTCGA\n",
    "TCACTTGGCTGATGTCTCGCGGTTGGGTCTTTCTCAGTGATAGTGCGCCCCTGTTGCTCCCCGTTACTATCAAATATGTGAGCCACCACTATTTATGGCCGTTATCTTGATGATGCTACCACGACGTTGCGGGAGACTATCACTATCCCAGACCAG\n",
    "ACAGACTCGGGTCCCTGTTGGCTCCATTTAAGTAGCAAGAGGACGTTATCGAACTGCGTACCGTTCTACACTGGGAGTTCAACGGTCCAGTACTGCAGCCGATGTAGTGCACCATGCGTAAGCGTGTGAAGCGTGCCTCGCGATTTACTGGCCGAT\"\"\"\n",
    "Dna = Dna.split('\\n')\n",
    "k = 12\n",
    "t = len(Dna)\n",
    "print(t)\n",
    "motifs, score = GreedyMotifSearch(Dna, k, t)\n",
    "print(motifs)\n",
    "print(score)"
   ]
  },
  {
   "cell_type": "code",
   "execution_count": 347,
   "metadata": {},
   "outputs": [
    {
     "name": "stdout",
     "output_type": "stream",
     "text": [
      "0.0\n",
      "0.0216\n",
      "0.0\n",
      "0.0216\n",
      "0.0216\n",
      "0.0054\n"
     ]
    }
   ],
   "source": [
    "kmers = ['AGGTCA',\n",
    "'ACGCGA',\n",
    "'AAGCCA',\n",
    "'AAGTGA',\n",
    "'ACGTTA',\n",
    "'AAGAGA']\n",
    "\n",
    "profile = {\n",
    "    'A': [0.4, 0.3, 0.0, 0.1, 0.0, 0.9],\n",
    "    'C': [0.2, 0.3, 0.0, 0.4, 0.0, 0.1],\n",
    "    'G': [0.1, 0.3, 1.0, 0.1, 0.5, 0.0],\n",
    "    'T': [0.3, 0.1, 0.0, 0.4, 0.5, 0.0]\n",
    "}\n",
    "\n",
    "def getProb(km, profile):\n",
    "    p = 1\n",
    "    for i, c in enumerate(km):\n",
    "        p = p*profile[c][i]\n",
    "    return p\n",
    "\n",
    "for km in kmers:\n",
    "    print(getProb(km, profile))"
   ]
  },
  {
   "cell_type": "code",
   "execution_count": 386,
   "metadata": {},
   "outputs": [
    {
     "data": {
      "text/plain": [
       "0.0054"
      ]
     },
     "execution_count": 386,
     "metadata": {},
     "output_type": "execute_result"
    }
   ],
   "source": [
    "def getProb(km, profile):\n",
    "    p = 1\n",
    "    for i, c in enumerate(km):\n",
    "        p = p*profile[c][i]\n",
    "    return p\n",
    "profile = {\n",
    "'A': [0.4, 0.3, 0.0, 0.1, 0.0, 0.9],\n",
    "'C': [0.2, 0.3, 0.0, 0.4, 0.0, 0.1],\n",
    "'G': [0.1, 0.3, 1.0, 0.1, 0.5, 0.0],\n",
    "'T': [0.3, 0.1, 0.0, 0.4, 0.5, 0.0]\n",
    "}\n",
    "getProb('GAGCTA', profile)"
   ]
  },
  {
   "cell_type": "code",
   "execution_count": null,
   "metadata": {},
   "outputs": [],
   "source": []
  }
 ],
 "metadata": {
  "kernelspec": {
   "display_name": "Python 3",
   "language": "python",
   "name": "python3"
  },
  "language_info": {
   "codemirror_mode": {
    "name": "ipython",
    "version": 3
   },
   "file_extension": ".py",
   "mimetype": "text/x-python",
   "name": "python",
   "nbconvert_exporter": "python",
   "pygments_lexer": "ipython3",
   "version": "3.6.6"
  }
 },
 "nbformat": 4,
 "nbformat_minor": 2
}
