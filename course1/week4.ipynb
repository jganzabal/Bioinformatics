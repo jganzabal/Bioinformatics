{
 "cells": [
  {
   "cell_type": "markdown",
   "metadata": {},
   "source": [
    "# Randomized Motif Search"
   ]
  },
  {
   "cell_type": "code",
   "execution_count": 1,
   "metadata": {},
   "outputs": [],
   "source": [
    "from itertools import product\n",
    "def kmers(text, k):\n",
    "    patterns = set()\n",
    "    for i in range(len(text) - k + 1):\n",
    "        patterns.add(text[i: i+k])\n",
    "    return patterns\n",
    "\n",
    "def getProb(km, profile):\n",
    "    p = 1\n",
    "    for i, c in enumerate(km):\n",
    "        p = p*profile[c][i]\n",
    "    return p\n",
    "\n",
    "def ProfileMostProbableKmer(text, k, profile):\n",
    "    kms = kmers(text, k)\n",
    "    prob = 0\n",
    "    for km in kms:\n",
    "        p = getProb(km, profile)\n",
    "        if p > prob:\n",
    "            prob = p\n",
    "            motif = km\n",
    "    return motif"
   ]
  },
  {
   "cell_type": "code",
   "execution_count": 48,
   "metadata": {},
   "outputs": [],
   "source": [
    "def score(motifs):\n",
    "    # Entropy with pseudocounts\n",
    "    profile = get_profile_laplace(motifs)\n",
    "    matrix = []\n",
    "    entropy = 0\n",
    "    for k, v in profile.items():\n",
    "        matrix.append(v)\n",
    "    matrix = np.array(matrix)\n",
    "    for col in matrix.T:\n",
    "        col_ent = 0 #- 1/9*np.log(1/9)/np.log(2)\n",
    "        for p in col:\n",
    "            col_ent = col_ent - p*np.log(p)/np.log(2)\n",
    "        entropy = entropy + col_ent\n",
    "    return entropy"
   ]
  },
  {
   "cell_type": "code",
   "execution_count": 49,
   "metadata": {},
   "outputs": [],
   "source": [
    "def score(motifs):\n",
    "    # Entropy no pseudocounts\n",
    "    motifs_matrix = []\n",
    "    for motif in motifs:\n",
    "        row = []\n",
    "        for c in motif:\n",
    "            row.append(c)\n",
    "        motifs_matrix.append(row)\n",
    "    motifs_matrix = np.array(motifs_matrix)\n",
    "    length, width = motifs_matrix.shape\n",
    "    total_entropy = 0\n",
    "    for i in range(width):\n",
    "        frecs = Counter(motifs_matrix[:,i])\n",
    "        entropy = 0\n",
    "        for k, v in frecs.items():\n",
    "            p = v/length\n",
    "            entropy = entropy - p*np.log(p)/np.log(2)\n",
    "        total_entropy = total_entropy + entropy\n",
    "    return total_entropy\n",
    "\n"
   ]
  },
  {
   "cell_type": "raw",
   "metadata": {},
   "source": [
    "RandomizedMotifSearch(Dna, k, t)\n",
    "    randomly select k-mers Motifs = (Motif1, …, Motift) in each string from Dna\n",
    "    BestMotifs ← Motifs\n",
    "    while forever\n",
    "        Profile ← Profile(Motifs)\n",
    "        Motifs ← Motifs(Profile, Dna)\n",
    "        if Score(Motifs) < Score(BestMotifs)\n",
    "            BestMotifs ← Motifs\n",
    "        else\n",
    "            return BestMotifs"
   ]
  },
  {
   "cell_type": "code",
   "execution_count": 50,
   "metadata": {},
   "outputs": [],
   "source": [
    "import numpy as np\n",
    "from collections import Counter\n",
    "\n",
    "\n",
    "def get_profile(motifs):\n",
    "    motifs_matrix = []\n",
    "    for motif in motifs:\n",
    "        row = []\n",
    "        for c in motif:\n",
    "            row.append(c)\n",
    "        motifs_matrix.append(row)\n",
    "    motifs_matrix = np.array(motifs_matrix)\n",
    "    height, width = motifs_matrix.shape\n",
    "    profile = {'A': [], 'C': [], 'G': [], 'T': []}\n",
    "    for i in range(width):\n",
    "        frecs = dict(Counter(motifs_matrix[:,i]))\n",
    "        for k in profile.keys():\n",
    "            if k in frecs:\n",
    "                profile[k].append(frecs[k]/height)\n",
    "            else:\n",
    "                profile[k].append(0)\n",
    "    return profile\n",
    "\n",
    "\n",
    "def get_motifs(dna, profile):\n",
    "    k = len(profile[list(profile.keys())[0]])\n",
    "    new_motifs = []\n",
    "    for line in dna:\n",
    "        new_motifs.append(ProfileMostProbableKmer(line, k, profile))\n",
    "    return new_motifs\n",
    "    \n"
   ]
  },
  {
   "cell_type": "code",
   "execution_count": 76,
   "metadata": {},
   "outputs": [],
   "source": [
    "def get_profile_laplace(motifs):\n",
    "    motifs_matrix = []\n",
    "    klen = len(motifs[0])\n",
    "    for motif in motifs:\n",
    "        row = []\n",
    "        for c in motif:\n",
    "            row.append(c)\n",
    "        motifs_matrix.append(row)\n",
    "    motifs_matrix = np.array(motifs_matrix)\n",
    "    height, width = motifs_matrix.shape\n",
    "    profile = {'A': [], 'C': [], 'G': [], 'T': []}\n",
    "    for i in range(width):\n",
    "        frecs = dict(Counter(motifs_matrix[:,i]))\n",
    "        for k in profile.keys():\n",
    "            if k in frecs:\n",
    "                profile[k].append((frecs[k] + 1)/(height + 4))\n",
    "            else:\n",
    "                profile[k].append(1 / (height + 4))\n",
    "    return profile"
   ]
  },
  {
   "cell_type": "code",
   "execution_count": 88,
   "metadata": {},
   "outputs": [],
   "source": [
    "def RandomizedMotifSearchIter(dna, k, t):\n",
    "    indexes = np.random.randint(0, len(dna[0]) - k, t)\n",
    "    motifs = []\n",
    "    for i, idx in enumerate(indexes):\n",
    "        motifs.append(dna[i][idx: idx + k])\n",
    "    BestMotifs = motifs\n",
    "    while True:\n",
    "        profile = get_profile_laplace(motifs)\n",
    "        motifs = get_motifs(dna, profile)\n",
    "        if score(motifs) < score(BestMotifs):\n",
    "            BestMotifs = motifs\n",
    "        else:\n",
    "            return BestMotifs, score(BestMotifs)"
   ]
  },
  {
   "cell_type": "code",
   "execution_count": 255,
   "metadata": {},
   "outputs": [
    {
     "name": "stdout",
     "output_type": "stream",
     "text": [
      "['ATGAGGTC', 'GCCCTAGA', 'AAATAGAT', 'TTGTGCTA']\n",
      "{'A': [0.25, 0.125, 0.25], 'C': [0.25, 0.375, 0.375], 'G': [0.375, 0.125, 0.125], 'T': [0.125, 0.375, 0.25]}\n",
      "GTC GCC ATA GCT\n"
     ]
    }
   ],
   "source": [
    "dna = \"\"\"ATGAGGTC\n",
    "GCCCTAGA\n",
    "AAATAGAT\n",
    "TTGTGCTA\"\"\".split('\\n')\n",
    "k = 3\n",
    "t = len(dna)\n",
    "print(dna)\n",
    "# Ejercicio\n",
    "motifs = ['GTC', 'CCC', 'ATA', 'GCT']\n",
    "profile = get_profile_laplace(motifs)\n",
    "print(profile)\n",
    "motifs = get_motifs(dna, profile)\n",
    "print(' '.join(motifs))"
   ]
  },
  {
   "cell_type": "code",
   "execution_count": null,
   "metadata": {},
   "outputs": [],
   "source": []
  },
  {
   "cell_type": "code",
   "execution_count": 249,
   "metadata": {},
   "outputs": [
    {
     "data": {
      "text/plain": [
       "['ATGAGGTC', 'GCCCTAGA', 'AAATAGAT', 'TTGTGCTA']"
      ]
     },
     "execution_count": 249,
     "metadata": {},
     "output_type": "execute_result"
    }
   ],
   "source": []
  },
  {
   "cell_type": "code",
   "execution_count": 89,
   "metadata": {},
   "outputs": [],
   "source": [
    "def RandomizedMotifSearch(dna, k, t):\n",
    "    motifs_arr = []\n",
    "    scores_arr = []\n",
    "    for i in range(1000):\n",
    "        motifs, sc = RandomizedMotifSearchIter(dna, k, t)\n",
    "        motifs_arr.append(motifs)\n",
    "        scores_arr.append(sc)\n",
    "    min_score_index = np.argmin(np.array(scores_arr))\n",
    "    return motifs_arr[min_score_index]"
   ]
  },
  {
   "cell_type": "code",
   "execution_count": 80,
   "metadata": {},
   "outputs": [],
   "source": [
    "k = 8 \n",
    "t = 5\n",
    "dna = \"\"\"CGCCCCTCTCGGGGGTGTTCAGTAAACGGCCA\n",
    "GGGCGAGGTATGTGTAAGTGCCAAGGTGCCAG\n",
    "TAGTACCGAGACCGAAAGAAGTATACAGGCGT\n",
    "TAGATCAAGTTTCAGGTGCACGTCGGTGAACC\n",
    "AATCCACCAGCTCCACGTGCAATGTTGGCCTA\"\"\".split('\\n')\n"
   ]
  },
  {
   "cell_type": "code",
   "execution_count": 95,
   "metadata": {},
   "outputs": [],
   "source": [
    "k=15 \n",
    "t=20\n",
    "dna = \"\"\"CCCACCTCCGATCCTTGCTGTTGTCGAGAATTCAATGGTCTTTGTGTTAATGGTAAATTTTTGCGCACCAAATCTTCCCCATGCCACTCAATTCCCGTCTTGACAAGGAACACGGTGCCGGACTGATTATAAACCCTTTAACGTGAAGCTGTTTCTTTCGCAATACCTTCTCGCTCCCCCACCTCCGATCCT\n",
    "TGCTGTTGTCGAGAATTCAATGGTCTTTGTGTTAATGGTAAATTTTTGCGCACCAAATCTTCCCCATGCCACTCAATTCCCGTCTTGACAAGGAACACGGCGCTACAGTTTGATTTGCCGGACTGATTATAAACCCTTTAACGTGAAGCTGTTTCTTTCGCAATACCTTCTCGCTCCCCCACCTCCGATCCT\n",
    "ACCCGAGCGATACTTTGCTTTACCGAGTCGTTTTACCGCCGAGACGGCCCGTTCGGATAGTCGCCCTCTCCTTTTCTGCACAGCGCCGTGTGTTGATTCGTCACGTTTCTTGATGGCAGGAGTTCAATAATATCCGTGCCGGGCATAGAGCCAAGGCTGTCGCGTAGTTAGCGGCCTTTGAATCTCGCTGTT\n",
    "ACGTCAATTTTTGTTTTGGTAAGTTGGATTATTAACGCCACTGGCAGCTATCTAGACAAAAGTTCTTTGACGTTTGTCCTATTGAATGGCTCAACCTAAACCACTGGTTAGCCATACAATTCGCTGTACACGCCGTAGTTTCCGTAGGGATGATGAGTAGGTGGACTTCCCACTACGGGTGCCATTTGTAAA\n",
    "CGGAACTTGCTTCTATGACTTTCACATCGTGACCGACGGCCAGACAAGTCTTAGATCTGTTAGCGCTCTTACTGATTCCGCGCATAAATACGCTGTCACTCACCACAACCATTGGATCGCCTTTCCGGTCTGTGTAGTTTGATTTTCACACGCATTACTGCAACTCGGGGGTTCGTGAACAACGATATCAGA\n",
    "AGACCGAGAACAACCTAGACTGTATCCGGAGAAAAGTGATTGACGCCCGCGTTTGATTTCTGAGTACCCTGGGTCAACGCCGACGAGATATCCTATTCCACTTGATCGTCTTGTACTAAGGAATGTAGTCACGACGTAGCTGCTGGATCTGGATCCGCAGTCGGGGCATAAGAGCAGTACGTCGAATCCATT\n",
    "TGACCAAGGAGTCCTATACGGATGACGCCGTAGTCGCATTCGCACTCTAGAGTAATCTATAGTAATTTCGGGATGTGTCGGGTGTACGCAAAAGTGTATCGAGACGAGAGGCATCTGTGAGTCTGCCAGACCATCAGCTGGCAACGTGCTGTTAATACCTGAGCCCTGGCGATAAGGTGGTCACCCTAACAA\n",
    "AAATGCGCCGTAGTTTGGGGGTAATGCCCTTATCAATGCTTGCTCAATCACCCCATCCGATGGTGCCCGGTGCCAACCTAACCCGGTAATATCAATACTTGAGTGGTTACTAGTAACGATCTCAATCAGGGCAATGGTGGTGAGGTCAAACTATGCAGTTACCCGTTCTCTGTACAGTCGGACGCCAAAGTA\n",
    "AGTACTACGTACTGTATCGATTTCTTTCCTCGGCCAGTCACGAAAGCTGGACCCGTGAGCCCCGAGATTAGCCCAGTTGTGCTTAGAATTGGGTTTAGCGAAGTTAAGCTGGCCTGTGTTATTACCGCTAATCTGTCAGACGCATATTACAGGATGTCCGTAGTTTGATCAACATATCGCCTGCACCAAAAC\n",
    "TCCAGTCACTATCAACCCTAAATGACCACCGGATACTCCGAACAAGTTCATAATAAGGAATACGTGAGTCAGTTGCACGCCTGGTCCTCAGTCATTGGCAGACAGTACGAGTACTGCCAATGTGTTTTCTTTCCCCCCCTAGGCCAGTTCGGTCGGGCTCGTTCTCGCCGTGTCTTGATTTTGCCTTAGTCT\n",
    "CGATATGAGATAATATCAGATTTGCGGCAGGAGAATATTTTTTAGTCACATATTTATGTACCACAACTCTGATAAGAATGAAGAATGCCGCCGTATAATGATTTGCAGTGTCAACCCAGACAAAGGTTGGCCAAAAAAAGTGTCTGGCTGTACGGGCCTCATCGAGCGCGCGGTCGTAATACAGTACTTCAA\n",
    "CTCGCACCAGTTTGATTAAAGCTCGCCCAGGATCGCTTGGCATAACTTCATCAACGCCGTGTCTCTATGATTAGTCAAATGGCTATCGCTGTTTCGGCGAACCTATTCCGTTACGCTCATGTCAAACAGCGGCAAGAGATTAGCTGTAGGAGTCTGACTCCCAAATTCGCCGGGATCTTCGAAACATATCAG\n",
    "CTGGCGGTCGAGTTTCTGACTACGATCTAGTTTGATTATCCGATGTGTAGGTACCACACGGTGCTCGCTGAGTGGCCTAGCCGCCGTGATGAATGGGATCGATAAATGATAGGTACACAAAATCAACATGTACAATGTCAGTGGAGATGGACAAGGCAACGGATTCCGGATGTGCACAAATCTCCTTTCGGA\n",
    "CGGCTTGGACAGATATCTGGTGCCTGAAGCCGAGACGCATTTCAGGTTTGCACAAGAAGTTTACACGAAGGATGGGCAACTCTGGCGACGACGCCGGCATTTGATTTCAAGATCACCTATCGACTTCTCTAGCGCCGCTGGTTCCCTATAAATGTAGTGAGTTAGAAGTACCCATGTGAAGTAGAATACTTG\n",
    "ACAAGCCAATTCACAGGAGGACCGATCATTCTCTTCCATCTGGAGATGTCGAGTTCACGAGTCGTCCGCTTATGGGGGGACTCGCGGAGGCTCCAGGTTAGGAGCTGGCGCGCTGCGGTTCCATTCATCCCGTTTAGTGGTTCGTAGTTTGATTGTTGAGAGATCAGTGTATCCGCGCTCAAGGTTTGCCTA\n",
    "CGATTTCTGATAACCGGTAAGCGACTTGATGAGCAAGGTCGCGCTTGTCCCTCTGTATGCTATAGTTACGATGGCCGCGTTGCAGGCACCAGAGCCCGGCTGGATTTCGGTGGCTGCCTGGCGCTCCTCTCCCGGGTACATCTTTGGCTGTAAGTGGCGCCGTAGTTAACTTCTTAGCTCAGATCCAATTCC\n",
    "GTTCGCTACAAATCCGTTCAAGCCGCGACGAGCTTCGTTCCAGGTACCACGAACTCGTCGAGCGCCGCTTTTTGATTCAACTACTAGAAGAGGGCACACTGCGCGCAACGCTGTGGGCTGCATGCAAGGCATACTATATGTGTCTCCTGGACGACGGCACAGTTCGGCATCGTCTGCTAGTAGTCTCCCCTC\n",
    "CTAGCCGGCACAGCTCCGCCTAGGCTAATCTCGGTCGACGGACACGACGCCTCGGTACTCCCGGTTTCACCCGCTGGGTTAGAAGTTAGGGCCGGAAGAGCAGCATGAACACGAACGCCGTAGGGAGATTCAACCGCAACAGCATGACGCTACGTTTCAATGGCTCCGCTGCCTATGATTACATTCTAGTTT\n",
    "GGTATGTTCGCATTGCTGCGCCTTCACGTAGAAAGGACTCAGGGGCAAGTGGCTAATGCGGCTCGTGGTAATGTCGAGACGAGTCCACTGTGGTGGTGGTCGCGCAGATAGGAGTTAAGTTTGATACGAGAGTGCCGTAGTTTGAGGTGAGAACCAAATGTCGTACCTTGCTGGACCGTAATAGTACTGAGG\n",
    "TTTTGATCATAGGTACTGTTGCCACTGGATTGGGGATCTATTTAGCGTGGGAAACTGTTGTTACGCTAATCACGTCGAACTACTAACCGCCCGCCTATGTTTGATTCTTCACTCGCGTGGCCCTGGCTCAGTATTATCTATTGTACTGGTAGCAGCCGCGGCGCATTGTATGATGACTGCGTGATCCCGCAT\"\"\".split('\\n')"
   ]
  },
  {
   "cell_type": "code",
   "execution_count": 96,
   "metadata": {},
   "outputs": [],
   "source": [
    "best_motifs = RandomizedMotifSearch(dna, k, t)"
   ]
  },
  {
   "cell_type": "code",
   "execution_count": 97,
   "metadata": {},
   "outputs": [
    {
     "name": "stdout",
     "output_type": "stream",
     "text": [
      "CTCCGATCCTTGCTG\n",
      "CGCTACAGTTTGATT\n",
      "CGCCGTGTGTTGATT\n",
      "CGCCGTAGTTTCCGT\n",
      "CTGTGTAGTTTGATT\n",
      "CGCCCGCGTTTGATT\n",
      "CGCCGTAGTCGCATT\n",
      "CGCCGTAGTTTGGGG\n",
      "GTCCGTAGTTTGATC\n",
      "CGCCGTGTCTTGATT\n",
      "CGCCGTATAATGATT\n",
      "CGCACCAGTTTGATT\n",
      "CGATCTAGTTTGATT\n",
      "CGCCGGCATTTGATT\n",
      "GTTCGTAGTTTGATT\n",
      "CGCCGTAGTTAACTT\n",
      "CGCCGCTTTTTGATT\n",
      "CGCCGTAGGGAGATT\n",
      "TGCCGTAGTTTGAGG\n",
      "CGCCTATGTTTGATT\n"
     ]
    }
   ],
   "source": [
    "print('\\n'.join(best_motifs))"
   ]
  },
  {
   "cell_type": "code",
   "execution_count": null,
   "metadata": {},
   "outputs": [],
   "source": [
    "CATGGGGAAAACTGA\n",
    "CCTCTCGATCACCGA\n",
    "CCTATAGATCACCGA\n",
    "CCGATTGATCACCGA\n",
    "CCTTGTGCAGACCGA\n",
    "CCTTGCCTTCACCGA\n",
    "CCTTGTTGCCACCGA\n",
    "ACTTGTGATCACCTT\n",
    "CCTTGTGATCAATTA\n",
    "CCTTGTGATCTGTGA\n",
    "CCTTGTGATCACTCC\n",
    "AACTGTGATCACCGA\n",
    "CCTTAGTATCACCGA\n",
    "CCTTGTGAAATCCGA\n",
    "CCTTGTCGCCACCGA\n",
    "TGTTGTGATCACCGC\n",
    "CACCGTGATCACCGA\n",
    "CCTTGGTTTCACCGA\n",
    "CCTTTGCATCACCGA\n",
    "CCTTGTGATTTACGA"
   ]
  },
  {
   "cell_type": "code",
   "execution_count": 86,
   "metadata": {},
   "outputs": [
    {
     "data": {
      "text/plain": [
       "5.8057304727060375"
      ]
     },
     "execution_count": 86,
     "metadata": {},
     "output_type": "execute_result"
    }
   ],
   "source": [
    "score(motifs_arr[min_score_index])"
   ]
  },
  {
   "cell_type": "markdown",
   "metadata": {},
   "source": [
    "# Gibbs Sampling"
   ]
  },
  {
   "cell_type": "raw",
   "metadata": {},
   "source": [
    "GibbsSampler(Dna, k, t, N)\n",
    "    randomly select k-mers Motifs = (Motif1, …, Motift) in each string from Dna\n",
    "    BestMotifs ← Motifs\n",
    "    for j ← 1 to N\n",
    "        i ← Random(t)\n",
    "        Profile ← profile matrix constructed from all strings in Motifs except for Motifi\n",
    "        Motifi ← Profile-randomly generated k-mer in the i-th sequence\n",
    "        if Score(Motifs) < Score(BestMotifs)\n",
    "            BestMotifs ← Motifs\n",
    "    return BestMotifs"
   ]
  },
  {
   "cell_type": "code",
   "execution_count": 120,
   "metadata": {},
   "outputs": [
    {
     "data": {
      "text/plain": [
       "0"
      ]
     },
     "execution_count": 120,
     "metadata": {},
     "output_type": "execute_result"
    }
   ],
   "source": [
    "np.random.choice(3, p = [0.9, 0.1, 0])"
   ]
  },
  {
   "cell_type": "code",
   "execution_count": 215,
   "metadata": {},
   "outputs": [],
   "source": [
    "def GibbsSamplerIter(dna, k, t, N):\n",
    "    indexes = np.random.randint(0, len(dna[0]) - k, t)\n",
    "    motifs = []\n",
    "    for i, idx in enumerate(indexes):\n",
    "        motifs.append(dna[i][idx: idx + k])\n",
    "    BestMotifs = motifs\n",
    "    for j in range(N):\n",
    "        i = np.random.randint(t)\n",
    "        profile = get_profile_laplace(motifs[:i] + motifs[i+1:])\n",
    "        p = []\n",
    "        for idx in range(len(dna[i])-k+1):\n",
    "            p.append(getProb(dna[i][idx:idx+k], profile))\n",
    "        p = np.array(p)\n",
    "        p = p/p.sum()\n",
    "        sel_idx = np.random.choice(len(p), p = p)\n",
    "        motifs[i] = dna[i][sel_idx:sel_idx+k]\n",
    "        if score(motifs) < score(BestMotifs):\n",
    "            BestMotifs = motifs\n",
    "    return BestMotifs, score(BestMotifs)"
   ]
  },
  {
   "cell_type": "code",
   "execution_count": 219,
   "metadata": {},
   "outputs": [],
   "source": [
    "def GibbsSampler(dna, k, t, N):\n",
    "    motifs_arr = []\n",
    "    scores_arr = []\n",
    "    for i in range(20):\n",
    "        motifs, sc = GibbsSamplerIter(dna, k, t, N)\n",
    "        motifs_arr.append(motifs)\n",
    "        scores_arr.append(sc)\n",
    "    min_score_index = np.argmin(np.array(scores_arr))\n",
    "    return motifs_arr[min_score_index]"
   ]
  },
  {
   "cell_type": "code",
   "execution_count": 242,
   "metadata": {},
   "outputs": [
    {
     "name": "stdout",
     "output_type": "stream",
     "text": [
      "CPU times: user 1min 17s, sys: 725 ms, total: 1min 18s\n",
      "Wall time: 1min 21s\n",
      "['CAGTGCGAATTTCGT', 'ACGATAGATTCCTGT', 'GTATACGATTCCTGT', 'ACGTACGAGCGCTGT', 'ACGTAAACTTCCTGT', 'AACAACGATTCCTGT', 'ACGTACGGCCCCTGT', 'ACGTACGATTCGCCT', 'ACGTACCCATCCTGT', 'CCGTACGATTCCTTG', 'ACGTTTAATTCCTGT', 'ACGTATATTTCCTGT', 'ACGTACTGATCCTGT', 'ACGTTTCATTCCTGT', 'ACGTACGATTCCCAC', 'ACGACAGATTCCTGT', 'ACGTACGATTTTAGT', 'ACGTACGATAATTGT', 'GTGTACGATTCCTGG', 'ACCGGCGATTCCTGT']\n",
      "14.773811532460147\n"
     ]
    }
   ],
   "source": [
    "k = 15 \n",
    "t = 20\n",
    "N = 2000\n",
    "\n",
    "dna = \"\"\"TGATGCCCCACAGTGTATGGAGTCCAAAACGTACTGAATTGGATTAACTCGCGGAGTCTAGCCATTCGTATTCTCATTCAACGGAGCAGCGAGATCAGGCCTGTGGAGGGCTTATGTCAGTGCGAATTTCGTTAGTTCGTTCAAGCTATCTTGCTATCCGCCCTCGTTCGGTTTAGATTACAGCTAGCCTGCCGTGCGACGCCGTACGTACAGCGGCGTAGCTTGTGCTTTCAGCAGTGTCATCTGGTGAAGAGCTCCCTGGGAGGTGATGAGTTGAGTCGGCGTGTGGGGCCGGCCCGCGGGCGGTGCACGTACAGTGATGCCCCACAGTG\n",
    "TATGGAGTCCAAAACGTACTGAATTGGATTAACTCGCGGAGTCTAGCCATTCGTATTCTCATTCAACGGAGCAGCGAGATCAGGCCTGTGGAGGGCTTATGTCAGTGCGAATTTCGTTAGTTCGTTCAAGCTATCTTGCTATCCGCCCTCGTTCGGTTTAGATTACAGCTAGCCTGCCGTGCGACGCCGTACGTACAGCGGCGTAGCTTGTGCTTTCAGCAGTGTACGATAGATTCCTGTCATCTGGTGAAGAGCTCCCTGGGAGGTGATGAGTTGAGTCGGCGTGTGGGGCCGGCCCGCGGGCGGTGCACGTACAGTGATGCCCCACAGTG\n",
    "GTTTCTGAAGATTGGGGATGCGGCGCGATCCTAGAATGAGAACTGCGTCTTGTGCATGCACTCTGACCGAGGTAACGCATTATACGTGGGAGTGGGAATTTCGCTCGGTGAGGGGCTGGTCTTGGTATACGATTCCTGTGCCCAGGCATGAAAATTCAGAGTGAGTGATAGTTTGACGTTTCGGCTGGAAGCCTACTGTGTCTCCCAGATCCCGTATCTAGTACCGTCATTACTACCGTAGTTATGGTGAAAGAATGCGTAGTCGCCGGAGGATACAAACGATGGTGTGGATGGATCAGGTCTATAGACATAGCCAGCTAAAACTCATTCTA\n",
    "TGTTTCGTATAGCCCCCAGGCCCATCTTGAACGTACGTACGAGCGCTGTCGTCAAGTCAAAAAGCAACGTGCATGCGTCATCGTCTTGTTAGCTTTGCTCAAACCGTTAATAAGTGCTCGGTCAAGCCTCCCGTTATTAACGAGTATGTGAAAACCTCTGGGTGCCATCGCAAACGTCCACCGCTGTTGCCGCCCCGATGAGCCTAGGGGTAAAATAATCCCGGCTTTAGGCCCTGACTAGCGTTACCCGACTGACCCGGTCGACTCGGCCTCTCTACCTATGGCCCCGGAACACTAAAGTGCGACCAGCAACTTCACGCCTGTGCCAAGTA\n",
    "AGAGGTTCAACTCCTCCACTGCCAACGGAGGGCATGGAGGTGCAGAAGATATACGCGTTTAGGGCAGATGCGAGCTTTTCGTTACAGTGTATGGTCATAGACGTAAACTTCCTGTGTGTAACTCTGAAAGTCCCATCTAGGCTTCAGTAAACTGCCACTTGCTATCGACCTGCGGCATTGACGATCGGACCTGGGCAGTGGACGCTGCCACTCCTAATATCGGACTCCGATTCGAGCTGATCAAGCGTTTTTCGCACCTCTTGTCATACGCTAGTTTGGGAGGAGGGCATTCCCCGACTAGCTCCGCGGATTTACCCTCTAGACTGGGACCG\n",
    "CGGTTGCTTTAGTCCGTGTCTTCGACACTTTTAAATCTACTTTTTATCCACCAGAACCGCTACGAGTTGCAAGGGTGGATAAGTATTGTCCATTTCTCACTCTACGTCATTCAACGATCTCTCACCAAGACGTCTGAACGTCGGTGTTGTGGCCCTAAGCTGGTCACTGCCCGGACTCTTGTCTTATTTATACAAACAACGATTCCTGTACTGACATAGTCGAAACCTTTTGACAATGCAGGACTACAACCTCCCGGAGGGATACAATTACTGTCGTGACCCAGGCTCAGGTAATGGATATAATAATGCGACGCTAGTCCATGATGGATGGG\n",
    "CGCTGACGTGCAAAAAGTAGCTACCGGGTGTCCGTAAGGTAGGGCGACGTGGAGTTGCTCTTCTAACAAAATAGCATCAAAGGAGCGGGCATTGACGAGATCAGTGTTCAGCACCCACATCCCCACACGTGCTTCGGCCCAATTGTAACGTACGGCCCCTGTAGATTGCATTAGAACTCTGAGCTGGATGCCCTCCGACCACGTGCGTTAAAAAGAGCCGTATCAATCATCTAAGACGGATCAAACCAAGCTGTGATAGTAACCGACTTCCACGTGGGATGTAGAGCGTAGTCGCAGATTGCATCTCACTGATCTGACATGGAGGTTTAATT\n",
    "CACGTTTCCCAGCAAAGATTAAGGCATGGCCGTGCGAATCGGTTCTTGACCTGGCTTAGGGTGCGATGTAACCAGAGCTCCCTATCTCTTGAGCATCTTAAATGACGGTCGGCGGGAGTGCTTTGCTTCCAGACGACCGTTTCACCTGCATGTACCGCTTGTAATAGCTACGTACGATTCGCCTGGTCGCTTACCGGCGCCAATTAGGGTTGTGATAGGGTTGCATAAGGTGACACTCTCCCGCGTGGCGGGGAAACTTGGTTTATCTTCATACATGTAATGTCGACTTGTCCCAGAAGGGGGAGTAATGGCTTAACTGTCCAGCACGATCG\n",
    "AATGTCCCACGGATGATGTGACCGAGTTGCCTTGTTTACAAATATATAGGATGTTGGACGACGAACGGAGAGAGGAGATGCGGCACCTAATACATTTAGTCAGGTCGCTTGATTCACTACGTGTCGTCTGCAGCTTGAACTGCTCTTCATTATGGGTCCAGGCGTCACATCGCCATAGGTAAGGATTCCGGTCGGAGGTGCCTGAACAGAATGTGGCCACTCGTACTCGCCGACGTACCCATCCTGTATTTAGTCTTGGCTGGTTCAATGAACGCAGTGGTCTAATTCGTCGAATGGAATCACCGAGGGTAATCAAGCGCTCAAGTTACTGG\n",
    "CGAACGGTTGAACATGCGCACCAATTAGCAGTATCGGCGAGGCTGAAAGCATATAATCAAGATTATCAGCGGTCACCGACAGAGATTATTGATTTAGACAGGAACTGGAGCGTCTCACCCCGTACGATTCCTTGTATAGTTTTTACGCACTCCGCCGCGTATTCAGAATGTCCATCGACCACGAGTCCGATATTTATGTCAGGAAGTAACGGCTCGGCAGAATGATTAACGAATCTCGTGAGCGAAGGCTGCCCCAAATCTGGTCAAACGGGGAGGCCATTTCGGGCCCGGGTTATAACTCTTACTTGGAGTCTTATAAGGGCGTAAGGACC\n",
    "AACGCCCCTGTACCACTCCTTTCCGTACAAAGCCATCCTGCCTTCAAGCGGGATTTACGTTTAATTCCTGTACTAGCGAACGACTGGGCAGACGCACGTGCGCTTGGGTTGGGTCTTATCTCCTTGACCACGCGGTGCCGTTATTGATAATTCGCGTCACCGGCCGCCATATGAAGCTGTCAATGTGACATTTTGTGTAGAATATCACTATTTACTGTTTGATTCGGCAGCCATACAGATTGGGTAGTAATTAAAAATAGGCGTCTAAAGCAGGGATAGACACTGTGTATTGTAAGTGTTCGATGATCTACCTATAGAACCAGCATAGTTGA\n",
    "GTGATACACTAATCTTTGACGTATATTTCCTGTCGATGAATAAGCCACTTGCAACCGGGTCACGGCCCGGCAAGCTAGAAATTTATGGACGAAGACCGTAATAATGGATGTGAACTTGGTTGTTGAATCTTATTCCGTTCGGCGAACATGTGCGCGTAGATACGGAACGCAAAGGACTTAGTTTCGCATACGGGAGTAGGACACAAAGTGGCGCTTTTCCAGTGGACGTAATTATGAGTAATCGTAGAATCAAGAAGTGGGTCATTAATCAGCTCCGGAAGGCACGTGATTTAAAGCGCCTCAATCAATCGTTTAGAACTTGCATTTGGATG\n",
    "GGTCACGTACTGATCCTGTTGCAACGGCATCGCCAAGATAAAAAGTGACACGTACTAGGTGCAGGGGTGCGTCACGTTGCCGAGCTCGCTACGATCTGATCGAGGCCCTTAAGCTTTGCAGCGTTCGCGACTGCCGTGTCCTGGGCCGCTGAACCAGGTGTCCATTCTGATTGTGTCGAAAAGTCCGCGACGCAGGGGCAGCGCGATCGAATGCGACAGGGGTTATCGTGCGGTAAACGTAGTGTGTATTATCGTAAAATAGTCTACGCACCGTCACACCCGGCCTACCCTGAGTTAAGCTCGAGTGGCTCCGCATAGCGAACATACAGCGA\n",
    "CGTGTTATCCCCCCAATTCGCAGGTAAAAGTACCTAGGTGCTGGTACCTGGCCACAGGCGGTAAAGTATCCAGTGGCGGTTACTACACGTTTCATTCCTGTCTCTATGCGTCAGATAACGCTAATCAATGGGGACGTTTGGGTATGAATTTTAATCCTCGTCCGGTAGCAGTGCATGACGGCGACTTAGCCGGAACCAGTCTTTGAGGGAATGGATCACGCTTACCAGGCGTGTCGGAACTATTCACTACCGGCGAGGGCGGTAAGACTGCTATTTCTTATTCGCCGTGGCCTCTAAGGTTCCTGGTCGCCTTGACGTAGAAAAGTAAGTAG\n",
    "AAAGTTGTAGCTCCGTTCCTACATCTGGCATTGGAGAATACGCCCTTGCCGGCCTAGTACCCCTTGGTCGCGTCACCGGCAACCCTCTAGTTACGTATGGCCGTGGTTCTGAACGTATGTGATGCTTAGTTTTAGTTTAGGGAAACGACATCGTCAACCGTCATCGCAGCTCACGGGTTTCTTACAGTATACGCCAGATTCTCTAACAGAAACTCTCAGGATTGTACGGCACGTCCGCGCAAAACCGGGGTCCATTCGCCGTCGTGCTTACGTAAGCCTACTAGGGACAGTCACGGTTGCCTGTGTACGTACGATTCCCACTTGCCCAAAGA\n",
    "AAATTGCTGGTTGGACCTCAGCGTCTCAAGCGCAGCTCGGATGTGCCTCCGCGGCATCATTCGAGTCTTCATTCAGTCACGAATGCCGTATTACCCTGCTAGAGAAAACGCTAGATGTATTCTTAATTGATACTGGGTCTCCGTTGTAACGTCGATCACGACAGATTCCTGTTTGTTGAAATGCGCATACATGCAGTCACAAAGTACACAATGAGGTGATTTGATGGGTTTTCCCCAGATCCGGTTTAGCTCATCTCACAACTGTCGACTTCCGAAACGCGCTGCTATTTTCTCAGGGAAATAAGTATACCTTGCCTTTTACGCCGACATCG\n",
    "CGTTTAGCAAGGTGAACTTCTGGATTAAGCGAGTTCGGAACGGAGCGGGACATCGCGTTCATTGAAAGCAATGGCGCCAAGGTAAGGCCTTCAATGATAGCGTTCCTGAGATTCCCGCCCAGGTAGACTATTGATCATTTTCAGTAACCAACGCGCTTGTCTTTCTTAGTTTTCGTGTTCGCTTACTCTCCATGGACCGTACCGAGATATAAGTTCCGCGGGCATCTACCAGTTGCTGTATGTCCATTGCCCCACCTACTGTCAGGGATGCCCGCAATCAAGAAGTTTAGCTCGCAGACGTACGATTTTAGTGTAAGGGGCCGGGGACGGAC\n",
    "GGGTGCAACCATCAGCGTGAGACGATACAAGGCTTCGCCATACAATGGGATCCGAAACACGTACGATAATTGTGTTGTTACGTGTCGATCACTCAATGGGAATCCCACTGCAGGCGCAGTACCGGGGGAAACTTCTCGCTAACATGGTGGGCCCATGCAAGTAGCACAGTGGTGTCTCCATGCGGGGCATTAATTGTTGAAGAGACCCCATTTATCATTCGTTAATGTGTGCCCCCGTTCTGGGACTCGCGATAATAGCTGGAGTAATCGCGGCCACACCTCAAGTGTTTGACACCGGATGCCGGGCGGGCTAGTCCAACCAGATGAGATTT\n",
    "CCGGGTGTTCTGAGTATTCGTCGCATCTGTAATAGCATTTAAAAGGAAAGCAATGCAACGTTTCACGAGGAGGAGTGTACGATTCCTGGTGTTGGTAGCGGCGGGGAAAATAGGGTCGCAACCATTTTAGAACGACACCGCTCGCAGTCAACCACACACCCCAGCAGCAGGAGGCTTCCCCGTACGTGCATGGACTTCGGGGGACGCTTCCTGCCCGAGACCACCACTTCAGTATGTAGGACTGGACCGGTAAACAACTTACGGGAAGTTATAGTCAACAGTACCACTATTACTCACCTCTAAATAACCGAATCGGAAGCCGATTTATGCGC\n",
    "TTGATCCTAAGACCATCCACTGATATGTAACGCGCTTTAACTGTACGCGGATTTTTACGGGATAAACCTCTCATTGGGGTCCAGAGTTCAGCTGATGAAGCTATGTGCGTGGCCTCGGTCCCGCATTACGGTGGGCCAAGGCTTACCGTAGCAGTTGGAGGATCGATCTTATCACCGGCAGTGACTAAATGATGGATGGCTGTTACTCCAGATCTGCTGCATTTGGAACAATCTTCTCCCACCGTGAGAGTTTCGTGGGGGCTCCAAGTTGGCGCCTGTCGTGTAAAGCAACTTCGCACGCGTCTCCCGCGAGGTTACCGGCGATTCCTGTG\"\"\".split('\\n')\n",
    "%time gibs_found = GibbsSampler(dna, k, t, N)\n",
    "print(gibs_found)\n",
    "print(score(gibs_found))"
   ]
  },
  {
   "cell_type": "code",
   "execution_count": 241,
   "metadata": {},
   "outputs": [
    {
     "name": "stdout",
     "output_type": "stream",
     "text": [
      "15.424917918370056\n",
      "GGTGAAGAGCTCCCT\n",
      "ACGATAGATTCCTGT\n",
      "GTATACGATTCCTGT\n",
      "ACGTACGAGCGCTGT\n",
      "ACGTAAACTTCCTGT\n",
      "AACAACGATTCCTGT\n",
      "ACGTACGGCCCCTGT\n",
      "ACGTACGATTCGCCT\n",
      "ACGTACCCATCCTGT\n",
      "CCGTACGATTCCTTG\n",
      "ACGTTTAATTCCTGT\n",
      "ACGTATATTTCCTGT\n",
      "ACGTACTGATCCTGT\n",
      "ACGTTTCATTCCTGT\n",
      "ACGTACGATTCCCAC\n",
      "ACGACAGATTCCTGT\n",
      "ACGTACGATTTTAGT\n",
      "ACGTACGATAATTGT\n",
      "GTGTACGATTCCTGG\n",
      "ACCGGCGATTCCTGT\n"
     ]
    }
   ],
   "source": [
    "print(score(gibs_found))\n",
    "print('\\n'.join(gibs_found))\n"
   ]
  },
  {
   "cell_type": "code",
   "execution_count": 243,
   "metadata": {},
   "outputs": [
    {
     "name": "stdout",
     "output_type": "stream",
     "text": [
      "14.773811532460147\n",
      "CAGTGCGAATTTCGT\n",
      "ACGATAGATTCCTGT\n",
      "GTATACGATTCCTGT\n",
      "ACGTACGAGCGCTGT\n",
      "ACGTAAACTTCCTGT\n",
      "AACAACGATTCCTGT\n",
      "ACGTACGGCCCCTGT\n",
      "ACGTACGATTCGCCT\n",
      "ACGTACCCATCCTGT\n",
      "CCGTACGATTCCTTG\n",
      "ACGTTTAATTCCTGT\n",
      "ACGTATATTTCCTGT\n",
      "ACGTACTGATCCTGT\n",
      "ACGTTTCATTCCTGT\n",
      "ACGTACGATTCCCAC\n",
      "ACGACAGATTCCTGT\n",
      "ACGTACGATTTTAGT\n",
      "ACGTACGATAATTGT\n",
      "GTGTACGATTCCTGG\n",
      "ACCGGCGATTCCTGT\n"
     ]
    }
   ],
   "source": [
    "print(score(gibs_found))\n",
    "print('\\n'.join(gibs_found))"
   ]
  },
  {
   "cell_type": "code",
   "execution_count": 237,
   "metadata": {},
   "outputs": [
    {
     "data": {
      "text/plain": [
       "14.866132778122266"
      ]
     },
     "execution_count": 237,
     "metadata": {},
     "output_type": "execute_result"
    }
   ],
   "source": [
    "score([\n",
    "    'ACGTCCACCGGCGTC',\n",
    "    'AAGCGCACCGGGGTG',\n",
    "    'ACCCTTACCGGGGTG',\n",
    "    'AAGTTCCTCGGGGTG',\n",
    "    'AAGTTTTATGGGGTG',\n",
    "    'AAGTTTACCGGGTGC',\n",
    "    'AAGTTTCGAGGGGTG',\n",
    "    'CTGTTTACCGGGGTA',\n",
    "    'AAGTTGCTCGGGGTG',\n",
    "    'AAACATACCGGGGTG',\n",
    "    'AAGTTTAGGAGGGTG',\n",
    "    'AAGGAAACCGGGGTG',\n",
    "    'AAGTTTACACAGGTG',\n",
    "    'TAGTTTACCGGGGAT',\n",
    "    'CCTTTTACCGGGGTG',\n",
    "    'AAGTGAGCCGGGGTG',\n",
    "    'AAGTCGTCCGGGGTG',\n",
    "    'AAGTTTACCGGACAG',\n",
    "    'AAGTTTACCAATGTG',\n",
    "    'AAGTTTACCGTCATG'\n",
    "])"
   ]
  },
  {
   "cell_type": "code",
   "execution_count": 226,
   "metadata": {},
   "outputs": [
    {
     "data": {
      "text/plain": [
       "6.278636068026094"
      ]
     },
     "execution_count": 226,
     "metadata": {},
     "output_type": "execute_result"
    }
   ],
   "source": [
    "score(['TCTCGGGG',\n",
    "'CCAAGGTG',\n",
    "'TACAGGCG',\n",
    "'TTCAGGTG',\n",
    "'TCCACGTG'])"
   ]
  },
  {
   "cell_type": "code",
   "execution_count": 126,
   "metadata": {},
   "outputs": [],
   "source": [
    "motifs = ['GGGTGTTC', 'GAGGTATG', 'AGACCGAA', 'TTTCAGGT', 'CGTGCAAT']"
   ]
  },
  {
   "cell_type": "code",
   "execution_count": 130,
   "metadata": {},
   "outputs": [
    {
     "data": {
      "text/plain": [
       "['GGGTGTTC', 'GAGGTATG', 'AGACCGAA', 'TTTCAGGT']"
      ]
     },
     "execution_count": 130,
     "metadata": {},
     "output_type": "execute_result"
    }
   ],
   "source": [
    "de = 4\n",
    "motifs[:de] + motifs[de+1:]"
   ]
  },
  {
   "cell_type": "code",
   "execution_count": 247,
   "metadata": {},
   "outputs": [
    {
     "name": "stdout",
     "output_type": "stream",
     "text": [
      "0.9982935153583617\n",
      "0.9830656030708897\n",
      "0.01693439692911025\n"
     ]
    }
   ],
   "source": [
    "k = 15\n",
    "p1 = (600- k) / (600-k+1)\n",
    "print(p1)\n",
    "pC = pow(p1,10)\n",
    "print(pC)\n",
    "pAnswer = 1 - pC\n",
    "print(pAnswer)"
   ]
  },
  {
   "cell_type": "code",
   "execution_count": null,
   "metadata": {},
   "outputs": [],
   "source": []
  }
 ],
 "metadata": {
  "kernelspec": {
   "display_name": "Python 3",
   "language": "python",
   "name": "python3"
  },
  "language_info": {
   "codemirror_mode": {
    "name": "ipython",
    "version": 3
   },
   "file_extension": ".py",
   "mimetype": "text/x-python",
   "name": "python",
   "nbconvert_exporter": "python",
   "pygments_lexer": "ipython3",
   "version": "3.6.6"
  }
 },
 "nbformat": 4,
 "nbformat_minor": 2
}
