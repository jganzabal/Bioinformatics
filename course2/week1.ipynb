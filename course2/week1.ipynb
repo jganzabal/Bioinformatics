{
 "cells": [
  {
   "cell_type": "markdown",
   "metadata": {},
   "source": [
    "# Ejercicio 1\n",
    "Encontrar k-mers en texto y ordenarlo"
   ]
  },
  {
   "cell_type": "code",
   "execution_count": 23,
   "metadata": {},
   "outputs": [],
   "source": [
    "import numpy as np\n",
    "import sys\n",
    "k = 5\n",
    "text = \"\"\"CAATCCAAC\"\"\""
   ]
  },
  {
   "cell_type": "code",
   "execution_count": 24,
   "metadata": {},
   "outputs": [
    {
     "name": "stdout",
     "output_type": "stream",
     "text": [
      "AATCC\n",
      "ATCCA\n",
      "CAATC\n",
      "CCAAC\n",
      "TCCAA\n"
     ]
    }
   ],
   "source": [
    "kmers = []\n",
    "for i in range(len(text) - k + 1):\n",
    "    kmers.append(text[i:i+k])\n",
    "print('\\n'.join(np.sort(kmers)))"
   ]
  },
  {
   "cell_type": "markdown",
   "metadata": {},
   "source": [
    "# Ejercicio 2\n",
    "Armar secuencia en funcion de concatenar (k-1). Aunque el algoritmo que hice prueba todos no solo k-1"
   ]
  },
  {
   "cell_type": "code",
   "execution_count": 25,
   "metadata": {},
   "outputs": [],
   "source": [
    "reads = \"\"\"ACCGA\n",
    "CCGAA\n",
    "CGAAG\n",
    "GAAGC\n",
    "AAGCT\n",
    "\"\"\""
   ]
  },
  {
   "cell_type": "code",
   "execution_count": 26,
   "metadata": {},
   "outputs": [
    {
     "name": "stdout",
     "output_type": "stream",
     "text": [
      "ACCGAAGCT\n"
     ]
    }
   ],
   "source": [
    "kmers = reads.split('\\n')\n",
    "text = kmers[0]\n",
    "for idx in range(len(kmers) - 1):\n",
    "    kmer = kmers[idx + 1]\n",
    "    for i in range(len(kmer)):\n",
    "        if text[-len(kmer) + i:] == kmer[:len(kmer) - i]:\n",
    "            text = text + kmer[len(kmer) - i:]\n",
    "            break\n",
    "print(text)"
   ]
  },
  {
   "cell_type": "markdown",
   "metadata": {},
   "source": [
    "# Ejercicio 3\n",
    "Arma grafo"
   ]
  },
  {
   "cell_type": "code",
   "execution_count": 30,
   "metadata": {},
   "outputs": [],
   "source": [
    "kmers = \"\"\"ATGCG\n",
    "GCATG\n",
    "CATGC\n",
    "AGGCA\n",
    "GGCAT\n",
    "GGCAC\"\"\".split(\"\\n\")"
   ]
  },
  {
   "cell_type": "code",
   "execution_count": 31,
   "metadata": {},
   "outputs": [
    {
     "name": "stdout",
     "output_type": "stream",
     "text": [
      "GCATG -> CATGC\n",
      "CATGC -> ATGCG\n",
      "AGGCA -> GGCAT,GGCAC\n",
      "GGCAT -> GCATG\n"
     ]
    }
   ],
   "source": [
    "graph_dict = {}\n",
    "for i, kmer1 in enumerate(kmers):\n",
    "    for j, kmer2 in enumerate(kmers):\n",
    "        if kmer1[1:] == kmer2[0:-1] and i!=j:\n",
    "            if kmer1 not in graph_dict:\n",
    "                graph_dict[kmer1] = []\n",
    "            graph_dict[kmer1].append(kmer2)\n",
    "for k, v in graph_dict.items():\n",
    "    print(k +' -> ' + ','.join(v))"
   ]
  },
  {
   "cell_type": "markdown",
   "metadata": {},
   "source": [
    "# Ejercicio 4\n",
    "De Bruijn Graph"
   ]
  },
  {
   "cell_type": "code",
   "execution_count": 72,
   "metadata": {},
   "outputs": [],
   "source": [
    "k = 3\n",
    "text = 'AAGATTCTCTAAGA'\n",
    "text = 'TAATGCCATGGGATGTT'"
   ]
  },
  {
   "cell_type": "code",
   "execution_count": 73,
   "metadata": {},
   "outputs": [],
   "source": [
    "#k = 12\n",
    "#text = \"\"\"CAACGTTACCGATCACCGGTGTCCCGCAAAGAGCCGTCCTTGAGGGGGGATCCTATTAGGAGTTTATAACGCCCCATGTCAAGGGACAACTGGGCCCCAAGGGGATCCCCCGCTAGATCGAGTGCATGACCGAATACCCGTCGCCCACAATGAGTCCATACATTTAGATGTCTTTAATAATGTCTTTTTATGCTTCGACTTTTTTGGGTAGGAGTTTGATATATGAGCTTTAGCTCCTCGGACGTATTGTAGCTGTTATGACTATGAATTCATCGTGACAGTGACACAGGCCTATGCCATTAGGGCAAAACCTCGGAACCGGTGTCAACGCACATTGTGATTCCTTACATTAGAGTCTCCTTAATCGATGGAGCCTGTAACAACTTAGCCTTGCTCGAAATCGAAGACCTGCCCAACAGGGGACGTGCTTGGCAAACTTCTTATTAAGAGTCGAAACACGGCCAAAGTGCCTAAGCAGTAGTTTGTAGGGCCTGTCAAAAAAGACCATCTCCACGCTAGGATCTGTGCTGGCACCCGGGTGCGACAAAAGGCGCCCTTTCCCAAATGCTGAACACTCCACGGAGCAACATTCTACTGCTCAGTGCTGACATGCTAAGTCCGCGCCCTACTTTCGGGCAAGTTCCATCAATCAACATCTAAAAAATGACCGTCATCCTAGGCTACAGTTTTGCGATAGGGTGGGAAGGGCTGAATCGGTCGTAACCTATCAGGGAGTGCGAGGCCGCTAATCAAATTATCAAGAATAATTATCAGATCATAAGTGCGAGTGGAGTCACTAATGAACCGGTACATGACGTAGGAGCGTGGACTGCTTGGTGTAATGTGCCATTCAGTAAGCCTCTTACCCGCTCCAAGCTTGCCTTGCTGGGGCAACGGAGCCGCGGTGATGGGTCCCTTCCTTGTTTTGGGCCGAGAATACATTACGCTCCTTACCCACGTTCAGCCCGCGGACATATATTTCATTTCCAACAGTCCGGCGGATGTCATATCTCGATGCTTTATCCCCTGAGACCCGAGGTGGAGTTGAGTCCACGCTTTGGGCGTTCAATGTACTGATATGGCGACCTTCTGTGGGTCACAGCAAGGGAATGTCTCCCAGGGAAGAGACTGCAAGGCCACTTCTTCCTATGGCGTCCCACTACATGCTCTTAACGCCCGACAGCACCGTTGAATCTATGAACCTGTAGCATCGTGGATTCGTATGTCGACTTCAACTTGCCCATCGTCGTGACGCTCATCGCGACGGGGAGGCACGAAGAATACATTAGAGAGCCGCTCGCAAGAAGTGTGGATGGGGGGTGAGTGAGCACCCTAAATAAACACAGGATTGCTGTAATTAACCACAGATTGCAATCTTGGGACGATTTAAGCCGATTATACTGGTTACGTGGTTTGTCAAACTCCACGGGCATAACTACACCGCGAAGTAACAGTTAGTATCCCATTTACGCATCAGGACGAATGCTAGACCAGGCCGCGGAGGTCCTCTTGGGGAACATCCAAGCCAGGTGCTCAACGACCCCAAGGTTTGATCTATGCCTGAGATCCACATACAACCATATGCGGGTATAAGACCGGGAAGCTCGTTTTTTATCGCAAGTTCCATTGCCGAGTGCTCCCTTGAAACCCCTCATTAGCCACAACGTCGAGATGCGAAACTTCTAGGTGTTTAGATGCCCTTCCTGCTAAACGTGAGAAGGTGTAAGAATGGCACTTTAGACGATTGCCTCGCCTTTTCTAGATAGAAATCTGGCTTAAACAGCTGTGCCGTCAGCCCACCGGCTATAGACAATTTGGCTACAACCGACGAGTACTGCGCGACCAATATTCGCTACGATTAGTATGCACTAACTCCGATCCCGAGGCCCCCGTTCCACAATAAATTACAATTGCCGCGGAATCATCCTACGGCCAGGTTCCATACCATACGATAGCAACACTTCTTAGAGCCCGGATTAACTAGGTTGAGAAGAATTCAC\"\"\""
   ]
  },
  {
   "cell_type": "code",
   "execution_count": 74,
   "metadata": {},
   "outputs": [
    {
     "name": "stdout",
     "output_type": "stream",
     "text": [
      "TA -> AA\n",
      "AA -> AT\n",
      "AT -> TG,TG,TG\n",
      "TG -> GC,GG,GT\n",
      "GC -> CC\n",
      "CC -> CA\n",
      "CA -> AT\n",
      "GG -> GG,GA\n",
      "GA -> AT\n",
      "GT -> TT\n"
     ]
    }
   ],
   "source": [
    "kmers = []\n",
    "graph_dict = {}\n",
    "for i in range(len(text) - (k-1)):\n",
    "    kmer = text[i:i+(k-1)]\n",
    "    if kmer not in graph_dict:\n",
    "        graph_dict[kmer] = []\n",
    "    graph_dict[kmer].append(text[i+1:i+1+(k-1)])\n",
    "for k, v in graph_dict.items():\n",
    "    print(k +' -> ' + ','.join(v))"
   ]
  },
  {
   "cell_type": "markdown",
   "metadata": {},
   "source": [
    "# Problema 5\n",
    "De Bruijn Graph de kmers"
   ]
  },
  {
   "cell_type": "code",
   "execution_count": 105,
   "metadata": {},
   "outputs": [
    {
     "data": {
      "text/plain": [
       "['GCGA',\n",
       " 'CAAG',\n",
       " 'AAGA',\n",
       " 'GCCG',\n",
       " 'ACAA',\n",
       " 'AGTA',\n",
       " 'TAGG',\n",
       " 'AGTA',\n",
       " 'ACGT',\n",
       " 'AGCC',\n",
       " 'TTCG',\n",
       " 'AGTT',\n",
       " 'AGTA',\n",
       " 'CGTA',\n",
       " 'GCGC',\n",
       " 'GCGA',\n",
       " 'GGTC',\n",
       " 'GCAT',\n",
       " 'AAGC',\n",
       " 'TAGA',\n",
       " 'ACAG',\n",
       " 'TAGA',\n",
       " 'TCCT',\n",
       " 'CCCC',\n",
       " 'GCGC',\n",
       " 'ATCC',\n",
       " 'AGTA',\n",
       " 'AAGA',\n",
       " 'GCGA',\n",
       " 'CGTA']"
      ]
     },
     "execution_count": 105,
     "metadata": {},
     "output_type": "execute_result"
    }
   ],
   "source": [
    "kmers = \"\"\"GCGA\n",
    "CAAG\n",
    "AAGA\n",
    "GCCG\n",
    "ACAA\n",
    "AGTA\n",
    "TAGG\n",
    "AGTA\n",
    "ACGT\n",
    "AGCC\n",
    "TTCG\n",
    "AGTT\n",
    "AGTA\n",
    "CGTA\n",
    "GCGC\n",
    "GCGA\n",
    "GGTC\n",
    "GCAT\n",
    "AAGC\n",
    "TAGA\n",
    "ACAG\n",
    "TAGA\n",
    "TCCT\n",
    "CCCC\n",
    "GCGC\n",
    "ATCC\n",
    "AGTA\n",
    "AAGA\n",
    "GCGA\n",
    "CGTA\"\"\".split('\\n')\n",
    "kmers"
   ]
  },
  {
   "cell_type": "code",
   "execution_count": 106,
   "metadata": {},
   "outputs": [
    {
     "name": "stdout",
     "output_type": "stream",
     "text": [
      "GCG -> CGA,CGC,CGA,CGC,CGA\n",
      "CAA -> AAG\n",
      "AAG -> AGA,AGC,AGA\n",
      "GCC -> CCG\n",
      "ACA -> CAA,CAG\n",
      "AGT -> GTA,GTA,GTT,GTA,GTA\n",
      "TAG -> AGG,AGA,AGA\n",
      "ACG -> CGT\n",
      "AGC -> GCC\n",
      "TTC -> TCG\n",
      "CGT -> GTA,GTA\n",
      "GGT -> GTC\n",
      "GCA -> CAT\n",
      "TCC -> CCT\n",
      "CCC -> CCC\n",
      "ATC -> TCC\n"
     ]
    }
   ],
   "source": [
    "nodes = {}\n",
    "for i, kmer in enumerate(kmers):\n",
    "    if kmer[:-1] not in nodes:\n",
    "        nodes[kmer[:-1]] = []\n",
    "    nodes[kmer[:-1]].append(kmer[1:])\n",
    "for k, v in nodes.items():\n",
    "    print(k +' -> ' + ','.join(v))"
   ]
  },
  {
   "cell_type": "markdown",
   "metadata": {},
   "source": [
    "# k-universal linear binary strings"
   ]
  },
  {
   "cell_type": "code",
   "execution_count": 103,
   "metadata": {},
   "outputs": [
    {
     "name": "stdout",
     "output_type": "stream",
     "text": [
      "6\n"
     ]
    }
   ],
   "source": [
    "binar = '1111000111'\n",
    "k=3\n",
    "s = set()\n",
    "for b in range(len(binar) - k + 1):\n",
    "    s.add(binar[b:k+b])\n",
    "print(len(s))"
   ]
  },
  {
   "cell_type": "code",
   "execution_count": null,
   "metadata": {},
   "outputs": [],
   "source": []
  }
 ],
 "metadata": {
  "kernelspec": {
   "display_name": "Python 3",
   "language": "python",
   "name": "python3"
  },
  "language_info": {
   "codemirror_mode": {
    "name": "ipython",
    "version": 3
   },
   "file_extension": ".py",
   "mimetype": "text/x-python",
   "name": "python",
   "nbconvert_exporter": "python",
   "pygments_lexer": "ipython3",
   "version": "3.6.6"
  }
 },
 "nbformat": 4,
 "nbformat_minor": 2
}
