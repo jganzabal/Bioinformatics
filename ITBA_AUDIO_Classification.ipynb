{
  "nbformat": 4,
  "nbformat_minor": 0,
  "metadata": {
    "colab": {
      "name": "ITBA-AUDIO-Classification.ipynb",
      "provenance": [],
      "collapsed_sections": [],
      "include_colab_link": true
    },
    "kernelspec": {
      "name": "python3",
      "display_name": "Python 3"
    }
  },
  "cells": [
    {
      "cell_type": "markdown",
      "metadata": {
        "id": "view-in-github",
        "colab_type": "text"
      },
      "source": [
        "<a href=\"https://colab.research.google.com/github/jganzabal/Bioinformatics/blob/master/ITBA_AUDIO_Classification.ipynb\" target=\"_parent\"><img src=\"https://colab.research.google.com/assets/colab-badge.svg\" alt=\"Open In Colab\"/></a>"
      ]
    },
    {
      "cell_type": "markdown",
      "metadata": {
        "id": "sRD4VbLSVGAj",
        "colab_type": "text"
      },
      "source": [
        "# Agregado del dataset a Google Drive propio"
      ]
    },
    {
      "cell_type": "markdown",
      "metadata": {
        "id": "n5e7TpOyJ0Um",
        "colab_type": "text"
      },
      "source": [
        "Hacer click en el siguiente link:\n",
        "\n",
        "https://drive.google.com/file/d/1I3yWgx9HC-TEmfRr6hgB_dZPcy7qhrZK/view?usp=sharing\n",
        "\n",
        "Agregarlo a tu drive con el icono de '+'\n"
      ]
    },
    {
      "cell_type": "markdown",
      "metadata": {
        "id": "DHfg6IYeVRP_",
        "colab_type": "text"
      },
      "source": [
        "# Login a Drive, unzip y bajada de librería"
      ]
    },
    {
      "cell_type": "code",
      "metadata": {
        "id": "Gl6TJ4fVJy8S",
        "colab_type": "code",
        "colab": {
          "base_uri": "https://localhost:8080/",
          "height": 122
        },
        "outputId": "91a150eb-21a8-4813-cc51-85a294e77ace"
      },
      "source": [
        "from google.colab import drive\n",
        "drive.mount('/content/drive')"
      ],
      "execution_count": 3,
      "outputs": [
        {
          "output_type": "stream",
          "text": [
            "Go to this URL in a browser: https://accounts.google.com/o/oauth2/auth?client_id=947318989803-6bn6qk8qdgf4n4g3pfee6491hc0brc4i.apps.googleusercontent.com&redirect_uri=urn%3Aietf%3Awg%3Aoauth%3A2.0%3Aoob&scope=email%20https%3A%2F%2Fwww.googleapis.com%2Fauth%2Fdocs.test%20https%3A%2F%2Fwww.googleapis.com%2Fauth%2Fdrive%20https%3A%2F%2Fwww.googleapis.com%2Fauth%2Fdrive.photos.readonly%20https%3A%2F%2Fwww.googleapis.com%2Fauth%2Fpeopleapi.readonly&response_type=code\n",
            "\n",
            "Enter your authorization code:\n",
            "··········\n",
            "Mounted at /content/drive\n"
          ],
          "name": "stdout"
        }
      ]
    },
    {
      "cell_type": "code",
      "metadata": {
        "id": "wwxQ9qakJ8FL",
        "colab_type": "code",
        "colab": {}
      },
      "source": [
        "! unzip \"/content/drive/My Drive/audios_itba.zip\" > /dev/null"
      ],
      "execution_count": 0,
      "outputs": []
    },
    {
      "cell_type": "code",
      "metadata": {
        "id": "tvZNNl4tKUXS",
        "colab_type": "code",
        "colab": {
          "base_uri": "https://localhost:8080/",
          "height": 204
        },
        "outputId": "66dfd7f2-936e-4c5f-c04b-de38b03d892f"
      },
      "source": [
        "! wget https://raw.githubusercontent.com/deeplearning-itba/FAT2019-Reducida/master/freesound_helper.py"
      ],
      "execution_count": 5,
      "outputs": [
        {
          "output_type": "stream",
          "text": [
            "--2019-10-03 15:12:30--  https://raw.githubusercontent.com/deeplearning-itba/FAT2019-Reducida/master/freesound_helper.py\n",
            "Resolving raw.githubusercontent.com (raw.githubusercontent.com)... 151.101.0.133, 151.101.64.133, 151.101.128.133, ...\n",
            "Connecting to raw.githubusercontent.com (raw.githubusercontent.com)|151.101.0.133|:443... connected.\n",
            "HTTP request sent, awaiting response... 200 OK\n",
            "Length: 22500 (22K) [text/plain]\n",
            "Saving to: ‘freesound_helper.py’\n",
            "\n",
            "\rfreesound_helper.py   0%[                    ]       0  --.-KB/s               \rfreesound_helper.py 100%[===================>]  21.97K  --.-KB/s    in 0.003s  \n",
            "\n",
            "2019-10-03 15:12:30 (6.18 MB/s) - ‘freesound_helper.py’ saved [22500/22500]\n",
            "\n"
          ],
          "name": "stdout"
        }
      ]
    },
    {
      "cell_type": "markdown",
      "metadata": {
        "id": "QTaWhvz_VZHm",
        "colab_type": "text"
      },
      "source": [
        "# Carga y análisis de dataset \n",
        "Si ya tiene cargado el dataset puede arrancar desde aca despues de restart runtime"
      ]
    },
    {
      "cell_type": "code",
      "metadata": {
        "id": "2E7oM_MRLnH8",
        "colab_type": "code",
        "colab": {}
      },
      "source": [
        "from pathlib import Path\n",
        "import pandas as pd\n",
        "import numpy as np\n",
        "from matplotlib import pyplot as plt\n",
        "import IPython.display as ipd\n",
        "import librosa"
      ],
      "execution_count": 0,
      "outputs": []
    },
    {
      "cell_type": "code",
      "metadata": {
        "id": "3slgPQ4WLfIE",
        "colab_type": "code",
        "colab": {}
      },
      "source": [
        "DATA = Path('ITBA_dataset/')\n",
        "AUDIOS_FOLDER = DATA/'audios'"
      ],
      "execution_count": 0,
      "outputs": []
    },
    {
      "cell_type": "code",
      "metadata": {
        "id": "DywlE-wOLqiG",
        "colab_type": "code",
        "colab": {}
      },
      "source": [
        "annotations = pd.read_csv(DATA/'train.csv')[['fname', 'labels']]"
      ],
      "execution_count": 0,
      "outputs": []
    },
    {
      "cell_type": "code",
      "metadata": {
        "id": "oQwDkjfYL4Nx",
        "colab_type": "code",
        "colab": {
          "base_uri": "https://localhost:8080/",
          "height": 204
        },
        "outputId": "cb52cd8b-f659-45f7-ca5c-a70e217773b8"
      },
      "source": [
        "annotations.head()"
      ],
      "execution_count": 4,
      "outputs": [
        {
          "output_type": "execute_result",
          "data": {
            "text/html": [
              "<div>\n",
              "<style scoped>\n",
              "    .dataframe tbody tr th:only-of-type {\n",
              "        vertical-align: middle;\n",
              "    }\n",
              "\n",
              "    .dataframe tbody tr th {\n",
              "        vertical-align: top;\n",
              "    }\n",
              "\n",
              "    .dataframe thead th {\n",
              "        text-align: right;\n",
              "    }\n",
              "</style>\n",
              "<table border=\"1\" class=\"dataframe\">\n",
              "  <thead>\n",
              "    <tr style=\"text-align: right;\">\n",
              "      <th></th>\n",
              "      <th>fname</th>\n",
              "      <th>labels</th>\n",
              "    </tr>\n",
              "  </thead>\n",
              "  <tbody>\n",
              "    <tr>\n",
              "      <th>0</th>\n",
              "      <td>001ec0ad.wav</td>\n",
              "      <td>Finger_snapping</td>\n",
              "    </tr>\n",
              "    <tr>\n",
              "      <th>1</th>\n",
              "      <td>0026f116.wav</td>\n",
              "      <td>Finger_snapping</td>\n",
              "    </tr>\n",
              "    <tr>\n",
              "      <th>2</th>\n",
              "      <td>0217540b.wav</td>\n",
              "      <td>Zipper_(clothing)</td>\n",
              "    </tr>\n",
              "    <tr>\n",
              "      <th>3</th>\n",
              "      <td>030d5b55.wav</td>\n",
              "      <td>Finger_snapping</td>\n",
              "    </tr>\n",
              "    <tr>\n",
              "      <th>4</th>\n",
              "      <td>037b9243.wav</td>\n",
              "      <td>Marimba_and_xylophone</td>\n",
              "    </tr>\n",
              "  </tbody>\n",
              "</table>\n",
              "</div>"
            ],
            "text/plain": [
              "          fname                 labels\n",
              "0  001ec0ad.wav        Finger_snapping\n",
              "1  0026f116.wav        Finger_snapping\n",
              "2  0217540b.wav      Zipper_(clothing)\n",
              "3  030d5b55.wav        Finger_snapping\n",
              "4  037b9243.wav  Marimba_and_xylophone"
            ]
          },
          "metadata": {
            "tags": []
          },
          "execution_count": 4
        }
      ]
    },
    {
      "cell_type": "code",
      "metadata": {
        "id": "po1r9DyfMOxP",
        "colab_type": "code",
        "colab": {
          "base_uri": "https://localhost:8080/",
          "height": 170
        },
        "outputId": "796a1fdf-46fe-4621-bca5-e9ff7b7444fd"
      },
      "source": [
        "from collections import Counter\n",
        "Counter(annotations['labels'])"
      ],
      "execution_count": 5,
      "outputs": [
        {
          "output_type": "execute_result",
          "data": {
            "text/plain": [
              "Counter({'Computer_keyboard': 75,\n",
              "         'Finger_snapping': 75,\n",
              "         'Gong': 75,\n",
              "         'Keys_jangling': 75,\n",
              "         'Marimba_and_xylophone': 75,\n",
              "         'Printer': 75,\n",
              "         'Scissors': 75,\n",
              "         'Skateboard': 75,\n",
              "         'Zipper_(clothing)': 75})"
            ]
          },
          "metadata": {
            "tags": []
          },
          "execution_count": 5
        }
      ]
    },
    {
      "cell_type": "code",
      "metadata": {
        "id": "6I7l0CXWPiwB",
        "colab_type": "code",
        "colab": {
          "base_uri": "https://localhost:8080/",
          "height": 51
        },
        "outputId": "c6e75897-db7f-4d5b-8407-93eb830ba010"
      },
      "source": [
        "# Nos quedamos con las categorías\n",
        "categories = np.array(list(set(annotations['labels'])))\n",
        "print(categories)"
      ],
      "execution_count": 6,
      "outputs": [
        {
          "output_type": "stream",
          "text": [
            "['Scissors' 'Printer' 'Marimba_and_xylophone' 'Skateboard' 'Gong'\n",
            " 'Finger_snapping' 'Computer_keyboard' 'Keys_jangling' 'Zipper_(clothing)']\n"
          ],
          "name": "stdout"
        }
      ]
    },
    {
      "cell_type": "code",
      "metadata": {
        "id": "HIZ9eOg-PO6b",
        "colab_type": "code",
        "colab": {}
      },
      "source": [
        "# ONE HOT ENCONDIG\n",
        "y_train = np.vstack(annotations['labels'].apply(lambda x: x.split(',')).apply(lambda x: np.isin(categories, x))).astype(int)\n",
        "# Formateamos lectura de files\n",
        "X_train = annotations['fname'].apply(lambda x: AUDIOS_FOLDER/x).values"
      ],
      "execution_count": 0,
      "outputs": []
    },
    {
      "cell_type": "code",
      "metadata": {
        "id": "KKQIPz_aTpN0",
        "colab_type": "code",
        "colab": {
          "base_uri": "https://localhost:8080/",
          "height": 92
        },
        "outputId": "16ecb182-00a8-4dad-e95f-f5263de169bd"
      },
      "source": [
        "# Escuchamos audios\n",
        "i = 11 # Indice del audio a escuchar\n",
        "X_i, sr = librosa.load(X_train[i], sr=None)\n",
        "print(np.array(categories)[np.array(y_train[i]).astype(bool)])\n",
        "ipd.Audio(X_i.reshape(-1), rate=sr)"
      ],
      "execution_count": 21,
      "outputs": [
        {
          "output_type": "stream",
          "text": [
            "['Marimba_and_xylophone']\n"
          ],
          "name": "stdout"
        },
        {
          "output_type": "execute_result",
          "data": {
            "text/html": [
              "\n",
              "                <audio controls=\"controls\" >\n",
              "                    <source src=\"data:audio/wav;base64,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\" type=\"audio/wav\" />\n",
              "                    Your browser does not support the audio element.\n",
              "                </audio>\n",
              "              "
            ],
            "text/plain": [
              "<IPython.lib.display.Audio object>"
            ]
          },
          "metadata": {
            "tags": []
          },
          "execution_count": 21
        }
      ]
    },
    {
      "cell_type": "markdown",
      "metadata": {
        "id": "9oPREoOZZb-w",
        "colab_type": "text"
      },
      "source": [
        "# Importamos Generator y graficamos salida (MEL Spectrogram)"
      ]
    },
    {
      "cell_type": "code",
      "metadata": {
        "id": "Gm4RFNq6L8PV",
        "colab_type": "code",
        "colab": {}
      },
      "source": [
        "from freesound_helper import DataGeneratorMel"
      ],
      "execution_count": 0,
      "outputs": []
    },
    {
      "cell_type": "code",
      "metadata": {
        "id": "hYHgq-yaQyrv",
        "colab_type": "code",
        "colab": {}
      },
      "source": [
        "# Split train/val\n",
        "np.random.seed(42)\n",
        "indexes = np.arange(len(X_train))\n",
        "np.random.shuffle(indexes)\n",
        "tr_cut = int(np.round(len(indexes)*0.8))"
      ],
      "execution_count": 0,
      "outputs": []
    },
    {
      "cell_type": "code",
      "metadata": {
        "id": "f3YfZ4LyM3z9",
        "colab_type": "code",
        "colab": {}
      },
      "source": [
        "# Hyperparámetros\n",
        "audio_duration = 2\n",
        "sample_rate = int(44100)\n",
        "batch_size = 32\n",
        "n_fft = 2048\n",
        "hop_length = 4*256"
      ],
      "execution_count": 0,
      "outputs": []
    },
    {
      "cell_type": "code",
      "metadata": {
        "id": "JGXqoUm6QWho",
        "colab_type": "code",
        "colab": {}
      },
      "source": [
        "dataGen_train_mel = DataGeneratorMel(X_train[indexes[:tr_cut]], y_train[indexes[:tr_cut]], None, \n",
        "                              batch_size=batch_size, audio_duration=audio_duration, sample_rate=sample_rate, \n",
        "                                     hop_length=hop_length, n_fft=n_fft)\n",
        "dataGen_val_mel = DataGeneratorMel(X_train[indexes[tr_cut:]], y_train[indexes[tr_cut:]], None, \n",
        "                            batch_size=batch_size, audio_duration=audio_duration, sample_rate=sample_rate, \n",
        "                                   hop_length=hop_length, n_fft=n_fft)"
      ],
      "execution_count": 0,
      "outputs": []
    },
    {
      "cell_type": "code",
      "metadata": {
        "id": "YR3odG3ENA69",
        "colab_type": "code",
        "colab": {
          "base_uri": "https://localhost:8080/",
          "height": 51
        },
        "outputId": "44265f0b-2b4a-4e9e-fbd4-0032700d3ebc"
      },
      "source": [
        "def get_batch(dataGen):\n",
        "    for X, y in dataGen:\n",
        "        break\n",
        "    return X, y\n",
        "%time X_mel, y_mel = get_batch(dataGen_train_mel)"
      ],
      "execution_count": 29,
      "outputs": [
        {
          "output_type": "stream",
          "text": [
            "CPU times: user 644 ms, sys: 799 ms, total: 1.44 s\n",
            "Wall time: 4.19 s\n"
          ],
          "name": "stdout"
        }
      ]
    },
    {
      "cell_type": "code",
      "metadata": {
        "id": "IVoqknM0SQNp",
        "colab_type": "code",
        "colab": {
          "base_uri": "https://localhost:8080/",
          "height": 34
        },
        "outputId": "3561bdd4-80d0-4b49-f2c5-4e7fb0500d10"
      },
      "source": [
        "X_mel.shape, y_mel.shape"
      ],
      "execution_count": 30,
      "outputs": [
        {
          "output_type": "execute_result",
          "data": {
            "text/plain": [
              "((32, 128, 87, 1), (32, 9))"
            ]
          },
          "metadata": {
            "tags": []
          },
          "execution_count": 30
        }
      ]
    },
    {
      "cell_type": "code",
      "metadata": {
        "id": "Ct4Zc7uER-gf",
        "colab_type": "code",
        "colab": {
          "base_uri": "https://localhost:8080/",
          "height": 320
        },
        "outputId": "182b7b5f-962b-4b4d-f8f2-3b4660a8197e"
      },
      "source": [
        "# Visualización de salida de generator\n",
        "i = 3\n",
        "print(categories[np.where(y_mel[i]==1)[0]])\n",
        "plt.imshow(X_mel[i].reshape(X_mel[i].shape[:2]), cmap='gray')\n",
        "plt.show()\n",
        "print(X_mel[i].shape)\n",
        "print(63 * hop_length / sample_rate)"
      ],
      "execution_count": 31,
      "outputs": [
        {
          "output_type": "stream",
          "text": [
            "['Zipper_(clothing)']\n"
          ],
          "name": "stdout"
        },
        {
          "output_type": "display_data",
          "data": {
            "image/png": "[encoded data removed]",
            "text/plain": [
              "<Figure size 432x288 with 1 Axes>"
            ]
          },
          "metadata": {
            "tags": []
          }
        },
        {
          "output_type": "stream",
          "text": [
            "(128, 87, 1)\n",
            "1.4628571428571429\n"
          ],
          "name": "stdout"
        }
      ]
    },
    {
      "cell_type": "markdown",
      "metadata": {
        "id": "F-EcBEi5Z8nI",
        "colab_type": "text"
      },
      "source": [
        "# Armar CNN"
      ]
    },
    {
      "cell_type": "code",
      "metadata": {
        "id": "2WDlpRvUSNWy",
        "colab_type": "code",
        "colab": {}
      },
      "source": [
        ""
      ],
      "execution_count": 0,
      "outputs": []
    }
  ]
}