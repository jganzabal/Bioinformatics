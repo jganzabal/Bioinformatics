{
  "nbformat": 4,
  "nbformat_minor": 0,
  "metadata": {
    "colab": {
      "name": "ITBA-AUDIO-Classification.ipynb",
      "provenance": [],
      "include_colab_link": true
    },
    "kernelspec": {
      "name": "python3",
      "display_name": "Python 3"
    }
  },
  "cells": [
    {
      "cell_type": "markdown",
      "metadata": {
        "id": "view-in-github",
        "colab_type": "text"
      },
      "source": [
        "<a href=\"https://colab.research.google.com/github/jganzabal/Bioinformatics/blob/master/ITBA_AUDIO_Classification.ipynb\" target=\"_parent\"><img src=\"https://colab.research.google.com/assets/colab-badge.svg\" alt=\"Open In Colab\"/></a>"
      ]
    },
    {
      "cell_type": "markdown",
      "metadata": {
        "id": "n5e7TpOyJ0Um",
        "colab_type": "text"
      },
      "source": [
        "Hacer click en el siguiente link:\n",
        "\n",
        "https://drive.google.com/file/d/1I3yWgx9HC-TEmfRr6hgB_dZPcy7qhrZK/view?usp=sharing\n",
        "\n",
        "Agregarlo a tu drive con el icono de '+'\n"
      ]
    },
    {
      "cell_type": "code",
      "metadata": {
        "id": "Gl6TJ4fVJy8S",
        "colab_type": "code",
        "colab": {
          "base_uri": "https://localhost:8080/",
          "height": 122
        },
        "outputId": "91a150eb-21a8-4813-cc51-85a294e77ace"
      },
      "source": [
        "from google.colab import drive\n",
        "drive.mount('/content/drive')"
      ],
      "execution_count": 3,
      "outputs": [
        {
          "output_type": "stream",
          "text": [
            "Go to this URL in a browser: https://accounts.google.com/o/oauth2/auth?client_id=947318989803-6bn6qk8qdgf4n4g3pfee6491hc0brc4i.apps.googleusercontent.com&redirect_uri=urn%3Aietf%3Awg%3Aoauth%3A2.0%3Aoob&scope=email%20https%3A%2F%2Fwww.googleapis.com%2Fauth%2Fdocs.test%20https%3A%2F%2Fwww.googleapis.com%2Fauth%2Fdrive%20https%3A%2F%2Fwww.googleapis.com%2Fauth%2Fdrive.photos.readonly%20https%3A%2F%2Fwww.googleapis.com%2Fauth%2Fpeopleapi.readonly&response_type=code\n",
            "\n",
            "Enter your authorization code:\n",
            "··········\n",
            "Mounted at /content/drive\n"
          ],
          "name": "stdout"
        }
      ]
    },
    {
      "cell_type": "code",
      "metadata": {
        "id": "wwxQ9qakJ8FL",
        "colab_type": "code",
        "colab": {}
      },
      "source": [
        "! unzip \"/content/drive/My Drive/audios_itba.zip\" > /dev/null"
      ],
      "execution_count": 0,
      "outputs": []
    },
    {
      "cell_type": "code",
      "metadata": {
        "id": "tvZNNl4tKUXS",
        "colab_type": "code",
        "colab": {
          "base_uri": "https://localhost:8080/",
          "height": 204
        },
        "outputId": "66dfd7f2-936e-4c5f-c04b-de38b03d892f"
      },
      "source": [
        "! wget https://raw.githubusercontent.com/deeplearning-itba/FAT2019-Reducida/master/freesound_helper.py"
      ],
      "execution_count": 5,
      "outputs": [
        {
          "output_type": "stream",
          "text": [
            "--2019-10-03 15:12:30--  https://raw.githubusercontent.com/deeplearning-itba/FAT2019-Reducida/master/freesound_helper.py\n",
            "Resolving raw.githubusercontent.com (raw.githubusercontent.com)... 151.101.0.133, 151.101.64.133, 151.101.128.133, ...\n",
            "Connecting to raw.githubusercontent.com (raw.githubusercontent.com)|151.101.0.133|:443... connected.\n",
            "HTTP request sent, awaiting response... 200 OK\n",
            "Length: 22500 (22K) [text/plain]\n",
            "Saving to: ‘freesound_helper.py’\n",
            "\n",
            "\rfreesound_helper.py   0%[                    ]       0  --.-KB/s               \rfreesound_helper.py 100%[===================>]  21.97K  --.-KB/s    in 0.003s  \n",
            "\n",
            "2019-10-03 15:12:30 (6.18 MB/s) - ‘freesound_helper.py’ saved [22500/22500]\n",
            "\n"
          ],
          "name": "stdout"
        }
      ]
    },
    {
      "cell_type": "code",
      "metadata": {
        "id": "2E7oM_MRLnH8",
        "colab_type": "code",
        "colab": {}
      },
      "source": [
        "from pathlib import Path\n",
        "import pandas as pd\n",
        "import numpy as np"
      ],
      "execution_count": 0,
      "outputs": []
    },
    {
      "cell_type": "code",
      "metadata": {
        "id": "3slgPQ4WLfIE",
        "colab_type": "code",
        "colab": {}
      },
      "source": [
        "DATA = Path('ITBA_dataset/')\n",
        "AUDIOS_FOLDER = DATA/'audios'"
      ],
      "execution_count": 0,
      "outputs": []
    },
    {
      "cell_type": "code",
      "metadata": {
        "id": "DywlE-wOLqiG",
        "colab_type": "code",
        "colab": {}
      },
      "source": [
        "annotations = pd.read_csv(DATA/'train.csv')[['fname', 'labels']]"
      ],
      "execution_count": 0,
      "outputs": []
    },
    {
      "cell_type": "code",
      "metadata": {
        "id": "oQwDkjfYL4Nx",
        "colab_type": "code",
        "colab": {
          "base_uri": "https://localhost:8080/",
          "height": 204
        },
        "outputId": "3394212a-3df3-4bbf-bbaa-c0c08297c38b"
      },
      "source": [
        "annotations.head()"
      ],
      "execution_count": 16,
      "outputs": [
        {
          "output_type": "execute_result",
          "data": {
            "text/html": [
              "<div>\n",
              "<style scoped>\n",
              "    .dataframe tbody tr th:only-of-type {\n",
              "        vertical-align: middle;\n",
              "    }\n",
              "\n",
              "    .dataframe tbody tr th {\n",
              "        vertical-align: top;\n",
              "    }\n",
              "\n",
              "    .dataframe thead th {\n",
              "        text-align: right;\n",
              "    }\n",
              "</style>\n",
              "<table border=\"1\" class=\"dataframe\">\n",
              "  <thead>\n",
              "    <tr style=\"text-align: right;\">\n",
              "      <th></th>\n",
              "      <th>fname</th>\n",
              "      <th>labels</th>\n",
              "    </tr>\n",
              "  </thead>\n",
              "  <tbody>\n",
              "    <tr>\n",
              "      <th>0</th>\n",
              "      <td>001ec0ad.wav</td>\n",
              "      <td>Finger_snapping</td>\n",
              "    </tr>\n",
              "    <tr>\n",
              "      <th>1</th>\n",
              "      <td>0026f116.wav</td>\n",
              "      <td>Finger_snapping</td>\n",
              "    </tr>\n",
              "    <tr>\n",
              "      <th>2</th>\n",
              "      <td>0217540b.wav</td>\n",
              "      <td>Zipper_(clothing)</td>\n",
              "    </tr>\n",
              "    <tr>\n",
              "      <th>3</th>\n",
              "      <td>030d5b55.wav</td>\n",
              "      <td>Finger_snapping</td>\n",
              "    </tr>\n",
              "    <tr>\n",
              "      <th>4</th>\n",
              "      <td>037b9243.wav</td>\n",
              "      <td>Marimba_and_xylophone</td>\n",
              "    </tr>\n",
              "  </tbody>\n",
              "</table>\n",
              "</div>"
            ],
            "text/plain": [
              "          fname                 labels\n",
              "0  001ec0ad.wav        Finger_snapping\n",
              "1  0026f116.wav        Finger_snapping\n",
              "2  0217540b.wav      Zipper_(clothing)\n",
              "3  030d5b55.wav        Finger_snapping\n",
              "4  037b9243.wav  Marimba_and_xylophone"
            ]
          },
          "metadata": {
            "tags": []
          },
          "execution_count": 16
        }
      ]
    },
    {
      "cell_type": "code",
      "metadata": {
        "id": "po1r9DyfMOxP",
        "colab_type": "code",
        "colab": {
          "base_uri": "https://localhost:8080/",
          "height": 170
        },
        "outputId": "78ce7096-24b8-429b-e7c8-cf8995bf9a27"
      },
      "source": [
        "from collections import Counter\n",
        "Counter(annotations['labels'])"
      ],
      "execution_count": 18,
      "outputs": [
        {
          "output_type": "execute_result",
          "data": {
            "text/plain": [
              "Counter({'Computer_keyboard': 75,\n",
              "         'Finger_snapping': 75,\n",
              "         'Gong': 75,\n",
              "         'Keys_jangling': 75,\n",
              "         'Marimba_and_xylophone': 75,\n",
              "         'Printer': 75,\n",
              "         'Scissors': 75,\n",
              "         'Skateboard': 75,\n",
              "         'Zipper_(clothing)': 75})"
            ]
          },
          "metadata": {
            "tags": []
          },
          "execution_count": 18
        }
      ]
    },
    {
      "cell_type": "code",
      "metadata": {
        "id": "Gm4RFNq6L8PV",
        "colab_type": "code",
        "colab": {
          "base_uri": "https://localhost:8080/",
          "height": 34
        },
        "outputId": "d1b57ddd-6082-4e62-c829-947ea85c3e44"
      },
      "source": [
        "from freesound_helper import DataGeneratorMel"
      ],
      "execution_count": 19,
      "outputs": [
        {
          "output_type": "stream",
          "text": [
            "Using TensorFlow backend.\n"
          ],
          "name": "stderr"
        }
      ]
    },
    {
      "cell_type": "code",
      "metadata": {
        "id": "6I7l0CXWPiwB",
        "colab_type": "code",
        "colab": {}
      },
      "source": [
        "categories = list(set(annotations['labels']))"
      ],
      "execution_count": 0,
      "outputs": []
    },
    {
      "cell_type": "code",
      "metadata": {
        "id": "d8UufAsxPmnT",
        "colab_type": "code",
        "colab": {
          "base_uri": "https://localhost:8080/",
          "height": 170
        },
        "outputId": "f2ced5d0-dd62-4cc5-fa7f-f2921f52a0b5"
      },
      "source": [
        "categories"
      ],
      "execution_count": 22,
      "outputs": [
        {
          "output_type": "execute_result",
          "data": {
            "text/plain": [
              "['Keys_jangling',\n",
              " 'Finger_snapping',\n",
              " 'Zipper_(clothing)',\n",
              " 'Computer_keyboard',\n",
              " 'Gong',\n",
              " 'Printer',\n",
              " 'Skateboard',\n",
              " 'Marimba_and_xylophone',\n",
              " 'Scissors']"
            ]
          },
          "metadata": {
            "tags": []
          },
          "execution_count": 22
        }
      ]
    },
    {
      "cell_type": "code",
      "metadata": {
        "id": "HIZ9eOg-PO6b",
        "colab_type": "code",
        "colab": {}
      },
      "source": [
        "y_train = np.vstack(annotations['labels'].apply(lambda x: x.split(',')).apply(lambda x: np.isin(categories, x))).astype(int)\n",
        "X_train = annotations['fname'].values"
      ],
      "execution_count": 0,
      "outputs": []
    },
    {
      "cell_type": "code",
      "metadata": {
        "id": "wuRTikMHPpRV",
        "colab_type": "code",
        "colab": {}
      },
      "source": [
        "for i, X in enumerate(X_train):\n",
        "    X_train[i] = AUDIOS_FOLDER/X"
      ],
      "execution_count": 0,
      "outputs": []
    },
    {
      "cell_type": "code",
      "metadata": {
        "id": "hYHgq-yaQyrv",
        "colab_type": "code",
        "colab": {}
      },
      "source": [
        "np.random.seed(42)\n",
        "indexes = np.arange(len(X_train))\n",
        "np.random.shuffle(indexes)\n",
        "tr_cut = int(np.round(len(indexes)*0.8))"
      ],
      "execution_count": 0,
      "outputs": []
    },
    {
      "cell_type": "code",
      "metadata": {
        "id": "f3YfZ4LyM3z9",
        "colab_type": "code",
        "colab": {}
      },
      "source": [
        "audio_duration = 16\n",
        "sample_rate = int(44100)\n",
        "batch_size = 32\n",
        "n_fft = 2048\n",
        "hop_length = 4*256"
      ],
      "execution_count": 0,
      "outputs": []
    },
    {
      "cell_type": "code",
      "metadata": {
        "id": "JGXqoUm6QWho",
        "colab_type": "code",
        "colab": {}
      },
      "source": [
        "dataGen_train_mel = DataGeneratorMel(X_train[indexes[:tr_cut]], y_train[indexes[:tr_cut]], None, \n",
        "                              batch_size=batch_size, audio_duration=audio_duration, sample_rate=sample_rate, \n",
        "                                     hop_length=hop_length, n_fft=n_fft)\n",
        "dataGen_val_mel = DataGeneratorMel(X_train[indexes[tr_cut:]], y_train[indexes[tr_cut:]], None, \n",
        "                            batch_size=batch_size, audio_duration=audio_duration, sample_rate=sample_rate, \n",
        "                                   hop_length=hop_length, n_fft=n_fft)"
      ],
      "execution_count": 0,
      "outputs": []
    },
    {
      "cell_type": "code",
      "metadata": {
        "id": "YR3odG3ENA69",
        "colab_type": "code",
        "colab": {}
      },
      "source": [
        ""
      ],
      "execution_count": 0,
      "outputs": []
    }
  ]
}